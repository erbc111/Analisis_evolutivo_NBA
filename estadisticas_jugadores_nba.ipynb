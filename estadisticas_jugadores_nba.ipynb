{
 "cells": [
  {
   "cell_type": "code",
   "execution_count": 3,
   "metadata": {},
   "outputs": [
    {
     "name": "stdout",
     "output_type": "stream",
     "text": [
      "c:\\Users\\ERBC\\Desktop\\curso henry\\Analisis_evolutivo_NBA\\Analisis_evolutivo_NBA\\.NBA_venv\\Scripts\\python.exe\n",
      "C:\\Users\\ERBC\\AppData\\Local\\Programs\\Python\\Python313\\python.exe\n",
      "C:\\Users\\ERBC\\AppData\\Local\\Microsoft\\WindowsApps\\python.exe\n"
     ]
    }
   ],
   "source": [
    "#activo el entorno\n",
    "! .NBA_venv\\Scripts\\activate \n",
    "#compuebo si estoy trabajando en el entorno\n",
    "! where python"
   ]
  },
  {
   "cell_type": "code",
   "execution_count": null,
   "metadata": {},
   "outputs": [],
   "source": []
  },
  {
   "cell_type": "code",
   "execution_count": null,
   "metadata": {},
   "outputs": [
    {
     "name": "stdout",
     "output_type": "stream",
     "text": [
      "Scraping completado (28 páginas) y guardado en nba_leaders.csv\n"
     ]
    }
   ],
   "source": [
    "from selenium import webdriver\n",
    "from selenium.webdriver.common.by import By\n",
    "from selenium.webdriver.support.ui import WebDriverWait\n",
    "from selenium.webdriver.support import expected_conditions as EC\n",
    "import pandas as pd\n",
    "import time\n",
    "\n",
    "ruta_guardar = r'C:\\Users\\ERBC\\Desktop\\curso henry\\Analisis_evolutivo_NBA\\Analisis_evolutivo_NBA\\datasets_limpios\\Estadisticas_jugadores.csv'\n",
    "\n",
    "# Configurar Selenium\n",
    "driver = webdriver.Chrome()\n",
    "url = \"https://www.nba.com/stats/alltime-leaders?SeasonType=Regular%20Season&PerMode=PerGame&StatCategory=PTS\"\n",
    "driver.get(url)\n",
    "\n",
    "# Esperar a que la tabla cargue\n",
    "wait = WebDriverWait(driver, 10)\n",
    "wait.until(EC.presence_of_element_located((By.CLASS_NAME, \"Crom_table__p1iZz\")))\n",
    "\n",
    "# Extraer nombres de columnas automáticamente\n",
    "header_elements = driver.find_elements(By.CSS_SELECTOR, \"table thead tr th\")\n",
    "columns = [col.text.strip() for col in header_elements]\n",
    "\n",
    "# Lista para almacenar los datos\n",
    "all_stats = []\n",
    "\n",
    "# Número de páginas a recorrer\n",
    "MAX_PAGES = 28  # Hay 28 páginas en total\n",
    "clicks_realizados = 0\n",
    "\n",
    "while clicks_realizados < MAX_PAGES:\n",
    "    # Extraer las filas de la tabla\n",
    "    rows = driver.find_elements(By.CSS_SELECTOR, \"table tbody tr\")\n",
    "    \n",
    "    for row in rows:\n",
    "        columns_data = row.find_elements(By.TAG_NAME, \"td\")\n",
    "        stats = [col.text for col in columns_data]  # Extraer el texto de cada columna\n",
    "        if stats:\n",
    "            all_stats.append(stats)\n",
    "\n",
    "    # Intentar hacer clic en \"Next Page\" (hasta la 27 página)\n",
    "    if clicks_realizados < MAX_PAGES - 1:\n",
    "        try:\n",
    "            next_button = driver.find_element(By.XPATH, \"//button[@title='Next Page Button']\")\n",
    "            \n",
    "            if \"disabled\" in next_button.get_attribute(\"class\"):\n",
    "                print(\"Botón deshabilitado. No hay más páginas.\")\n",
    "                break\n",
    "            \n",
    "            driver.execute_script(\"arguments[0].scrollIntoView();\", next_button)  # Hacer scroll al botón\n",
    "            driver.execute_script(\"arguments[0].click();\", next_button)  # Forzar clic con JS\n",
    "            time.sleep(3)  # Esperar que cargue la nueva página\n",
    "            clicks_realizados += 1  # Contar el clic\n",
    "        except Exception as e:\n",
    "            print(\"No se encontró el botón o no se pudo hacer clic:\", e)\n",
    "            break\n",
    "    else:\n",
    "        break  # Salir después de la última página\n",
    "\n",
    "# Cerrar navegador\n",
    "driver.quit()\n",
    "\n",
    "# Crear DataFrame con columnas dinámicas\n",
    "df = pd.DataFrame(all_stats, columns=columns)\n",
    "\n",
    "\n",
    "# Renombrar las columnas del DataFrame para que coincidan con la base de datos\n",
    "df = df.rename(columns={\n",
    "    '#': 'position',  \n",
    "    'FG%': 'FG_PCT',\n",
    "    '3PM': 'TPM',\n",
    "    '3PA': 'TPA',\n",
    "    '3P%': 'TP_PCT',\n",
    "    'FT%': 'FT_PCT',\n",
    "    'EFG%': 'EFG_PCT',\n",
    "    'TS%': 'TS_PCT'\n",
    "\n",
    "})\n",
    "\n",
    "\n",
    "print(f\"Scraping completado ({clicks_realizados + 1} páginas)\")\n"
   ]
  },
  {
   "cell_type": "code",
   "execution_count": 9,
   "metadata": {},
   "outputs": [],
   "source": [
    "# Convertir columnas numéricas que están como 'object' a tipos correctos\n",
    "numeric_columns = [\"position\", \"GP\", \"MIN\", \"PTS\", \"FGM\", \"FGA\", \"FG_PCT\", \n",
    "                   \"TPM\", \"TPA\", \"TP_PCT\", \"FTM\", \"FTA\", \"FT_PCT\", \n",
    "                   \"OREB\", \"DREB\", \"REB\", \"AST\", \"STL\", \"BLK\", \"TOV\", \n",
    "                   \"EFG_PCT\", \"TS_PCT\"]\n",
    "\n",
    "for col in numeric_columns:\n",
    "    df[col] = pd.to_numeric(df[col], errors='coerce')  # Convierte y reemplaza errores con NaN\n",
    "\n",
    "# Reemplazar NaN con un valor predeterminado (por ejemplo, 0 si tiene sentido en tu contexto)\n",
    "df.fillna(0, inplace=True)\n",
    "\n",
    "# Guardar en CSV\n",
    "df.to_csv(ruta_guardar, index=False)\n"
   ]
  },
  {
   "cell_type": "code",
   "execution_count": 10,
   "metadata": {},
   "outputs": [
    {
     "name": "stdout",
     "output_type": "stream",
     "text": [
      "Dataset cargado:\n",
      "<class 'pandas.core.frame.DataFrame'>\n",
      "RangeIndex: 1381 entries, 0 to 1380\n",
      "Data columns (total 23 columns):\n",
      " #   Column    Non-Null Count  Dtype  \n",
      "---  ------    --------------  -----  \n",
      " 0   position  1381 non-null   int64  \n",
      " 1   PLAYER    1381 non-null   object \n",
      " 2   GP        1381 non-null   int64  \n",
      " 3   MIN       1381 non-null   float64\n",
      " 4   PTS       1381 non-null   float64\n",
      " 5   FGM       1381 non-null   float64\n",
      " 6   FGA       1381 non-null   float64\n",
      " 7   FG_PCT    1381 non-null   float64\n",
      " 8   TPM       1381 non-null   float64\n",
      " 9   TPA       1381 non-null   float64\n",
      " 10  TP_PCT    1381 non-null   float64\n",
      " 11  FTM       1381 non-null   float64\n",
      " 12  FTA       1381 non-null   float64\n",
      " 13  FT_PCT    1381 non-null   float64\n",
      " 14  OREB      1381 non-null   float64\n",
      " 15  DREB      1381 non-null   float64\n",
      " 16  REB       1381 non-null   float64\n",
      " 17  AST       1381 non-null   float64\n",
      " 18  STL       1381 non-null   float64\n",
      " 19  BLK       1381 non-null   float64\n",
      " 20  TOV       1381 non-null   float64\n",
      " 21  EFG_PCT   1381 non-null   float64\n",
      " 22  TS_PCT    1381 non-null   float64\n",
      "dtypes: float64(20), int64(2), object(1)\n",
      "memory usage: 248.3+ KB\n"
     ]
    }
   ],
   "source": [
    "# 1. Leer el dataset desde el archivo CSV\n",
    "ruta_csv = r\"C:\\Users\\ERBC\\Desktop\\curso henry\\Analisis_evolutivo_NBA\\Analisis_evolutivo_NBA\\datasets_limpios\\Estadisticas_jugadores.csv\"\n",
    "df = pd.read_csv(ruta_csv)\n",
    "# Mostrar las primeras filas del dataset\n",
    "print(\"Dataset cargado:\")\n",
    "df.info()"
   ]
  },
  {
   "cell_type": "code",
   "execution_count": 11,
   "metadata": {},
   "outputs": [
    {
     "name": "stdout",
     "output_type": "stream",
     "text": [
      "Conectado al server\n"
     ]
    },
    {
     "name": "stderr",
     "output_type": "stream",
     "text": [
      "<>:3: SyntaxWarning: invalid escape sequence '\\S'\n",
      "<>:3: SyntaxWarning: invalid escape sequence '\\S'\n",
      "C:\\Users\\ERBC\\AppData\\Local\\Temp\\ipykernel_15420\\3815601064.py:3: SyntaxWarning: invalid escape sequence '\\S'\n",
      "  server = 'ERBC-GAMER\\SQLEXPRESS'  # Nombre del servidor\n"
     ]
    }
   ],
   "source": [
    "import pyodbc\n",
    "# 2. Conectar a la base de datos SQL Server\n",
    "server = 'ERBC-GAMER\\SQLEXPRESS'  # Nombre del servidor\n",
    "database = 'NBA_database'  # Nombre de la base de datos\n",
    "username = 'Sa'  # Usuario de SQL Server\n",
    "password = '1234'  # Contraseña de SQL Server\n",
    "\n",
    "# Cadena de conexión con usuario de sql\n",
    "conn_str = f'DRIVER={{SQL Server}};SERVER={server};DATABASE={database};UID={username};PWD={password}'\n",
    "\n",
    "#conexion con usuario de windows\n",
    "#conn_str = f'DRIVER={{SQL Server}};SERVER={server};DATABASE={database};Trusted_Connection=yes;'\n",
    "\n",
    "# Establecer la conexión\n",
    "conn = pyodbc.connect(conn_str)\n",
    "cursor = conn.cursor()\n",
    "print(\"Conectado al server\")"
   ]
  },
  {
   "cell_type": "code",
   "execution_count": 12,
   "metadata": {},
   "outputs": [
    {
     "name": "stdout",
     "output_type": "stream",
     "text": [
      "La tabla 'Estadisticas_jugadores' ya existe.\n"
     ]
    }
   ],
   "source": [
    "# Definir el nombre de la tabla\n",
    "table_name = 'Estadisticas_jugadores'\n",
    "\n",
    "# Consulta para verificar si la tabla ya existe\n",
    "check_table_query = f'''\n",
    "SELECT COUNT(*) \n",
    "FROM sys.tables \n",
    "WHERE name = '{table_name}';\n",
    "'''\n",
    "\n",
    "cursor.execute(check_table_query)\n",
    "table_exists = cursor.fetchone()[0]  # Devuelve 1 si la tabla existe, 0 si no.\n",
    "\n",
    "if table_exists == 0:\n",
    "    # Crear la tabla si no existe\n",
    "    create_table_query = f'''\n",
    "    CREATE TABLE {table_name} (\n",
    "        position INT NOT NULL, -- Posición del jugador en el ranking\n",
    "        PLAYER NVARCHAR(100) NOT NULL PRIMARY KEY, -- Nombre del jugador (clave primaria)\n",
    "        GP INT NOT NULL, -- Juegos jugados\n",
    "        MIN FLOAT NOT NULL, -- Minutos por partido\n",
    "        PTS FLOAT NOT NULL, -- Puntos por partido\n",
    "        FGM FLOAT NOT NULL, -- Tiros de campo anotados\n",
    "        FGA FLOAT NOT NULL, -- Tiros de campo intentados\n",
    "        FG_PCT FLOAT NOT NULL, -- Porcentaje de tiros de campo\n",
    "        TPM FLOAT NULL, -- Triples anotados\n",
    "        TPA FLOAT NULL, -- Triples intentados\n",
    "        TP_PCT FLOAT NULL, -- Porcentaje de triples\n",
    "        FTM FLOAT NOT NULL, -- Tiros libres anotados\n",
    "        FTA FLOAT NOT NULL, -- Tiros libres intentados\n",
    "        FT_PCT FLOAT NOT NULL, -- Porcentaje de tiros libres\n",
    "        OREB FLOAT NULL, -- Rebotes ofensivos\n",
    "        DREB FLOAT NULL, -- Rebotes defensivos\n",
    "        REB FLOAT NOT NULL, -- Rebotes totales\n",
    "        AST FLOAT NOT NULL, -- Asistencias por partido\n",
    "        STL FLOAT NULL, -- Robos por partido\n",
    "        BLK FLOAT NULL, -- Bloqueos por partido\n",
    "        TOV FLOAT NULL, -- Pérdidas de balón por partido\n",
    "        EFG_PCT FLOAT NOT NULL, -- Porcentaje de tiros de campo efectivo\n",
    "        TS_PCT FLOAT NOT NULL  -- Porcentaje de tiros verdaderos\n",
    "    );\n",
    "    '''\n",
    "    cursor.execute(create_table_query)\n",
    "    conn.commit()\n",
    "    print(f\"Tabla '{table_name}' creada exitosamente.\")\n",
    "else:\n",
    "    print(f\"La tabla '{table_name}' ya existe.\")\n"
   ]
  },
  {
   "cell_type": "code",
   "execution_count": 13,
   "metadata": {},
   "outputs": [
    {
     "name": "stdout",
     "output_type": "stream",
     "text": [
      "Datos anteriores en 'Estadisticas_jugadores' eliminados.\n",
      "Datos de 'Estadisticas_jugadores' insertados/actualizados correctamente.\n"
     ]
    }
   ],
   "source": [
    "# Borrar los datos antes de insertar los nuevos (mantiene la tabla vacía y limpia)\n",
    "cursor.execute(f\"DELETE FROM {table_name};\")\n",
    "conn.commit()\n",
    "print(f\"Datos anteriores en '{table_name}' eliminados.\")\n",
    "\n",
    "# Convertir el DataFrame a una lista de tuplas\n",
    "data_tuples = [tuple(row) for row in df.to_numpy()]\n",
    "\n",
    "# Definir la consulta MERGE para evitar duplicados\n",
    "insert_query = f'''\n",
    "MERGE INTO {table_name} AS target\n",
    "USING (VALUES (?, ?, ?, ?, ?, ?, ?, ?, ?, ?, ?, ?, ?, ?, ?, ?, ?, ?, ?, ?, ?, ?, ?)) AS source (\n",
    "    position, PLAYER, GP, MIN, PTS, FGM, FGA, FG_PCT, TPM, TPA, TP_PCT, FTM, FTA, FT_PCT, OREB, DREB, REB, AST, STL, BLK, TOV, EFG_PCT, TS_PCT\n",
    ")\n",
    "ON target.PLAYER = source.PLAYER\n",
    "WHEN MATCHED THEN \n",
    "    UPDATE SET \n",
    "        position = source.position,\n",
    "        GP = source.GP,\n",
    "        MIN = source.MIN,\n",
    "        PTS = source.PTS,\n",
    "        FGM = source.FGM,\n",
    "        FGA = source.FGA,\n",
    "        FG_PCT = source.FG_PCT,\n",
    "        TPM = source.TPM,\n",
    "        TPA = source.TPA,\n",
    "        TP_PCT = source.TP_PCT,\n",
    "        FTM = source.FTM,\n",
    "        FTA = source.FTA,\n",
    "        FT_PCT = source.FT_PCT,\n",
    "        OREB = source.OREB,\n",
    "        DREB = source.DREB,\n",
    "        REB = source.REB,\n",
    "        AST = source.AST,\n",
    "        STL = source.STL,\n",
    "        BLK = source.BLK,\n",
    "        TOV = source.TOV,\n",
    "        EFG_PCT = source.EFG_PCT,\n",
    "        TS_PCT = source.TS_PCT\n",
    "WHEN NOT MATCHED BY TARGET THEN\n",
    "    INSERT (position, PLAYER, GP, MIN, PTS, FGM, FGA, FG_PCT, TPM, TPA, TP_PCT, FTM, FTA, FT_PCT, OREB, DREB, REB, AST, STL, BLK, TOV, EFG_PCT, TS_PCT)\n",
    "    VALUES (source.position, source.PLAYER, source.GP, source.MIN, source.PTS, source.FGM, source.FGA, source.FG_PCT, source.TPM, source.TPA, source.TP_PCT, source.FTM, source.FTA, source.FT_PCT, source.OREB, source.DREB, source.REB, source.AST, source.STL, source.BLK, source.TOV, source.EFG_PCT, source.TS_PCT);\n",
    "'''\n",
    "\n",
    "# Ejecutar la inserción de datos\n",
    "cursor.executemany(insert_query, data_tuples)\n",
    "conn.commit()\n",
    "print(f\"Datos de '{table_name}' insertados/actualizados correctamente.\")\n"
   ]
  }
 ],
 "metadata": {
  "kernelspec": {
   "display_name": ".NBA_venv",
   "language": "python",
   "name": "python3"
  },
  "language_info": {
   "codemirror_mode": {
    "name": "ipython",
    "version": 3
   },
   "file_extension": ".py",
   "mimetype": "text/x-python",
   "name": "python",
   "nbconvert_exporter": "python",
   "pygments_lexer": "ipython3",
   "version": "3.13.1"
  }
 },
 "nbformat": 4,
 "nbformat_minor": 2
}
