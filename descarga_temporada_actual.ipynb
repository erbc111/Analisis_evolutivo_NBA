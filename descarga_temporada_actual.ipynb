{
 "cells": [
  {
   "cell_type": "code",
   "execution_count": 7,
   "metadata": {},
   "outputs": [
    {
     "name": "stdout",
     "output_type": "stream",
     "text": [
      "c:\\Users\\ERBC\\Desktop\\curso henry\\Analisis_evolutivo_NBA\\Analisis_evolutivo_NBA\\.NBA_venv\\Scripts\\python.exe\n",
      "C:\\Users\\ERBC\\AppData\\Local\\Programs\\Python\\Python313\\python.exe\n",
      "C:\\Users\\ERBC\\AppData\\Local\\Microsoft\\WindowsApps\\python.exe\n"
     ]
    }
   ],
   "source": [
    "#activo el entorno\n",
    "! .NBA_venv\\Scripts\\activate \n",
    "#compuebo si estoy trabajando en el entorno\n",
    "! where python"
   ]
  },
  {
   "cell_type": "code",
   "execution_count": null,
   "metadata": {},
   "outputs": [],
   "source": [
    "! pip install nba_api\n",
    "! pip freeze > requirements.txt\n"
   ]
  },
  {
   "cell_type": "code",
   "execution_count": 5,
   "metadata": {},
   "outputs": [
    {
     "ename": "ModuleNotFoundError",
     "evalue": "No module named 'nba_api'",
     "output_type": "error",
     "traceback": [
      "\u001b[1;31m---------------------------------------------------------------------------\u001b[0m",
      "\u001b[1;31mModuleNotFoundError\u001b[0m                       Traceback (most recent call last)",
      "Cell \u001b[1;32mIn[5], line 1\u001b[0m\n\u001b[1;32m----> 1\u001b[0m \u001b[38;5;28;01mfrom\u001b[39;00m\u001b[38;5;250m \u001b[39m\u001b[38;5;21;01mnba_api\u001b[39;00m\u001b[38;5;21;01m.\u001b[39;00m\u001b[38;5;21;01mstats\u001b[39;00m\u001b[38;5;21;01m.\u001b[39;00m\u001b[38;5;21;01mendpoints\u001b[39;00m\u001b[38;5;250m \u001b[39m\u001b[38;5;28;01mimport\u001b[39;00m leaguestandings\n\u001b[0;32m      3\u001b[0m \u001b[38;5;66;03m# Obtener la tabla de posiciones de la temporada actual\u001b[39;00m\n\u001b[0;32m      4\u001b[0m standings \u001b[38;5;241m=\u001b[39m leaguestandings\u001b[38;5;241m.\u001b[39mLeagueStandings()\n",
      "\u001b[1;31mModuleNotFoundError\u001b[0m: No module named 'nba_api'"
     ]
    }
   ],
   "source": [
    "from nba_api.stats.endpoints import leaguestandings\n",
    "\n",
    "# Obtener la tabla de posiciones de la temporada actual\n",
    "standings = leaguestandings.LeagueStandings()\n",
    "standings_data = standings.get_data_frames()[0]\n",
    "print(standings_data)"
   ]
  }
 ],
 "metadata": {
  "kernelspec": {
   "display_name": ".NBA_venv",
   "language": "python",
   "name": "python3"
  },
  "language_info": {
   "codemirror_mode": {
    "name": "ipython",
    "version": 3
   },
   "file_extension": ".py",
   "mimetype": "text/x-python",
   "name": "python",
   "nbconvert_exporter": "python",
   "pygments_lexer": "ipython3",
   "version": "3.13.1"
  }
 },
 "nbformat": 4,
 "nbformat_minor": 2
}
