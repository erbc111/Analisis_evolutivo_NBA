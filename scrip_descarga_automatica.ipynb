{
 "cells": [
  {
   "cell_type": "code",
   "execution_count": 2,
   "metadata": {},
   "outputs": [
    {
     "name": "stdout",
     "output_type": "stream",
     "text": [
      "c:\\Users\\ERBC\\Desktop\\curso henry\\Analisis_evolutivo_NBA\\Analisis_evolutivo_NBA\\.NBA_venv\\Scripts\\python.exe\n",
      "C:\\Users\\ERBC\\AppData\\Local\\Programs\\Python\\Python313\\python.exe\n",
      "C:\\Users\\ERBC\\AppData\\Local\\Microsoft\\WindowsApps\\python.exe\n"
     ]
    }
   ],
   "source": [
    "#activo el entorno\n",
    "! .NBA_venv\\Scripts\\activate \n",
    "#compuebo si estoy trabajando en el entorno\n",
    "! where python"
   ]
  },
  {
   "cell_type": "code",
   "execution_count": 5,
   "metadata": {},
   "outputs": [
    {
     "name": "stdout",
     "output_type": "stream",
     "text": [
      "Requirement already satisfied: kaggle in c:\\users\\erbc\\desktop\\curso henry\\analisis_evolutivo_nba\\analisis_evolutivo_nba\\.nba_venv\\lib\\site-packages (1.6.17)\n",
      "Requirement already satisfied: pandas in c:\\users\\erbc\\desktop\\curso henry\\analisis_evolutivo_nba\\analisis_evolutivo_nba\\.nba_venv\\lib\\site-packages (2.2.3)\n",
      "Requirement already satisfied: sqlalchemy in c:\\users\\erbc\\desktop\\curso henry\\analisis_evolutivo_nba\\analisis_evolutivo_nba\\.nba_venv\\lib\\site-packages (2.0.37)\n",
      "Requirement already satisfied: six>=1.10 in c:\\users\\erbc\\desktop\\curso henry\\analisis_evolutivo_nba\\analisis_evolutivo_nba\\.nba_venv\\lib\\site-packages (from kaggle) (1.17.0)\n",
      "Requirement already satisfied: certifi>=2023.7.22 in c:\\users\\erbc\\desktop\\curso henry\\analisis_evolutivo_nba\\analisis_evolutivo_nba\\.nba_venv\\lib\\site-packages (from kaggle) (2024.12.14)\n",
      "Requirement already satisfied: python-dateutil in c:\\users\\erbc\\desktop\\curso henry\\analisis_evolutivo_nba\\analisis_evolutivo_nba\\.nba_venv\\lib\\site-packages (from kaggle) (2.9.0.post0)\n",
      "Requirement already satisfied: requests in c:\\users\\erbc\\desktop\\curso henry\\analisis_evolutivo_nba\\analisis_evolutivo_nba\\.nba_venv\\lib\\site-packages (from kaggle) (2.32.3)\n",
      "Requirement already satisfied: tqdm in c:\\users\\erbc\\desktop\\curso henry\\analisis_evolutivo_nba\\analisis_evolutivo_nba\\.nba_venv\\lib\\site-packages (from kaggle) (4.67.1)\n",
      "Requirement already satisfied: python-slugify in c:\\users\\erbc\\desktop\\curso henry\\analisis_evolutivo_nba\\analisis_evolutivo_nba\\.nba_venv\\lib\\site-packages (from kaggle) (8.0.4)\n",
      "Requirement already satisfied: urllib3 in c:\\users\\erbc\\desktop\\curso henry\\analisis_evolutivo_nba\\analisis_evolutivo_nba\\.nba_venv\\lib\\site-packages (from kaggle) (2.3.0)\n",
      "Requirement already satisfied: bleach in c:\\users\\erbc\\desktop\\curso henry\\analisis_evolutivo_nba\\analisis_evolutivo_nba\\.nba_venv\\lib\\site-packages (from kaggle) (6.2.0)\n",
      "Requirement already satisfied: numpy>=1.26.0 in c:\\users\\erbc\\desktop\\curso henry\\analisis_evolutivo_nba\\analisis_evolutivo_nba\\.nba_venv\\lib\\site-packages (from pandas) (2.2.2)\n",
      "Requirement already satisfied: pytz>=2020.1 in c:\\users\\erbc\\desktop\\curso henry\\analisis_evolutivo_nba\\analisis_evolutivo_nba\\.nba_venv\\lib\\site-packages (from pandas) (2024.2)\n",
      "Requirement already satisfied: tzdata>=2022.7 in c:\\users\\erbc\\desktop\\curso henry\\analisis_evolutivo_nba\\analisis_evolutivo_nba\\.nba_venv\\lib\\site-packages (from pandas) (2024.2)\n",
      "Requirement already satisfied: greenlet!=0.4.17 in c:\\users\\erbc\\desktop\\curso henry\\analisis_evolutivo_nba\\analisis_evolutivo_nba\\.nba_venv\\lib\\site-packages (from sqlalchemy) (3.1.1)\n",
      "Requirement already satisfied: typing-extensions>=4.6.0 in c:\\users\\erbc\\desktop\\curso henry\\analisis_evolutivo_nba\\analisis_evolutivo_nba\\.nba_venv\\lib\\site-packages (from sqlalchemy) (4.12.2)\n",
      "Requirement already satisfied: webencodings in c:\\users\\erbc\\desktop\\curso henry\\analisis_evolutivo_nba\\analisis_evolutivo_nba\\.nba_venv\\lib\\site-packages (from bleach->kaggle) (0.5.1)\n",
      "Requirement already satisfied: text-unidecode>=1.3 in c:\\users\\erbc\\desktop\\curso henry\\analisis_evolutivo_nba\\analisis_evolutivo_nba\\.nba_venv\\lib\\site-packages (from python-slugify->kaggle) (1.3)\n",
      "Requirement already satisfied: charset-normalizer<4,>=2 in c:\\users\\erbc\\desktop\\curso henry\\analisis_evolutivo_nba\\analisis_evolutivo_nba\\.nba_venv\\lib\\site-packages (from requests->kaggle) (3.4.1)\n",
      "Requirement already satisfied: idna<4,>=2.5 in c:\\users\\erbc\\desktop\\curso henry\\analisis_evolutivo_nba\\analisis_evolutivo_nba\\.nba_venv\\lib\\site-packages (from requests->kaggle) (3.10)\n",
      "Requirement already satisfied: colorama in c:\\users\\erbc\\desktop\\curso henry\\analisis_evolutivo_nba\\analisis_evolutivo_nba\\.nba_venv\\lib\\site-packages (from tqdm->kaggle) (0.4.6)\n"
     ]
    }
   ],
   "source": [
    "#instalacion\n",
    "! pip install kaggle pandas sqlalchemy\n",
    "! pip freeze > requirements.txt"
   ]
  },
  {
   "cell_type": "code",
   "execution_count": 6,
   "metadata": {},
   "outputs": [],
   "source": [
    "import os\n",
    "\n",
    "# Configurar la API de Kaggle\n",
    "os.environ['KAGGLE_CONFIG_DIR'] = 'C:/Users/ERBC/Desktop/curso henry/Analisis_evolutivo_NBA/Analisis_evolutivo_NBA/.Kaggle'"
   ]
  },
  {
   "cell_type": "code",
   "execution_count": 12,
   "metadata": {},
   "outputs": [],
   "source": [
    "from kaggle.api.kaggle_api_extended import KaggleApi\n",
    "\n",
    "# Configurar la API\n",
    "api = KaggleApi()\n",
    "api.authenticate()\n"
   ]
  },
  {
   "cell_type": "code",
   "execution_count": 15,
   "metadata": {},
   "outputs": [
    {
     "name": "stdout",
     "output_type": "stream",
     "text": [
      "Dataset URL: https://www.kaggle.com/datasets/wyattowalsh/basketball\n"
     ]
    }
   ],
   "source": [
    "# Descargar el dataset\n",
    "dataset = 'wyattowalsh/basketball'  # identificador del dataset de Kaggle\n",
    "output_path = 'datasets_descarga'\n",
    "api.dataset_download_files(dataset, path=output_path, unzip=True)"
   ]
  },
  {
   "cell_type": "code",
   "execution_count": 16,
   "metadata": {},
   "outputs": [
    {
     "name": "stdout",
     "output_type": "stream",
     "text": [
      "Archivo 'common_player_info.csv' movido a 'C:/Users/ERBC/Desktop/curso henry/Analisis_evolutivo_NBA/Analisis_evolutivo_NBA/datasets' (sobreescrito si existía).\n",
      "Archivo 'draft_combine_stats.csv' movido a 'C:/Users/ERBC/Desktop/curso henry/Analisis_evolutivo_NBA/Analisis_evolutivo_NBA/datasets' (sobreescrito si existía).\n",
      "Archivo 'draft_history.csv' movido a 'C:/Users/ERBC/Desktop/curso henry/Analisis_evolutivo_NBA/Analisis_evolutivo_NBA/datasets' (sobreescrito si existía).\n",
      "Archivo 'game.csv' movido a 'C:/Users/ERBC/Desktop/curso henry/Analisis_evolutivo_NBA/Analisis_evolutivo_NBA/datasets' (sobreescrito si existía).\n",
      "Archivo 'game_info.csv' movido a 'C:/Users/ERBC/Desktop/curso henry/Analisis_evolutivo_NBA/Analisis_evolutivo_NBA/datasets' (sobreescrito si existía).\n",
      "Archivo 'game_summary.csv' movido a 'C:/Users/ERBC/Desktop/curso henry/Analisis_evolutivo_NBA/Analisis_evolutivo_NBA/datasets' (sobreescrito si existía).\n",
      "Archivo 'inactive_players.csv' movido a 'C:/Users/ERBC/Desktop/curso henry/Analisis_evolutivo_NBA/Analisis_evolutivo_NBA/datasets' (sobreescrito si existía).\n",
      "Archivo 'line_score.csv' movido a 'C:/Users/ERBC/Desktop/curso henry/Analisis_evolutivo_NBA/Analisis_evolutivo_NBA/datasets' (sobreescrito si existía).\n",
      "Archivo 'officials.csv' movido a 'C:/Users/ERBC/Desktop/curso henry/Analisis_evolutivo_NBA/Analisis_evolutivo_NBA/datasets' (sobreescrito si existía).\n",
      "Archivo 'other_stats.csv' movido a 'C:/Users/ERBC/Desktop/curso henry/Analisis_evolutivo_NBA/Analisis_evolutivo_NBA/datasets' (sobreescrito si existía).\n",
      "Archivo 'player.csv' movido a 'C:/Users/ERBC/Desktop/curso henry/Analisis_evolutivo_NBA/Analisis_evolutivo_NBA/datasets' (sobreescrito si existía).\n",
      "Archivo 'play_by_play.csv' movido a 'C:/Users/ERBC/Desktop/curso henry/Analisis_evolutivo_NBA/Analisis_evolutivo_NBA/datasets' (sobreescrito si existía).\n",
      "Archivo 'team.csv' movido a 'C:/Users/ERBC/Desktop/curso henry/Analisis_evolutivo_NBA/Analisis_evolutivo_NBA/datasets' (sobreescrito si existía).\n",
      "Archivo 'team_details.csv' movido a 'C:/Users/ERBC/Desktop/curso henry/Analisis_evolutivo_NBA/Analisis_evolutivo_NBA/datasets' (sobreescrito si existía).\n",
      "Archivo 'team_history.csv' movido a 'C:/Users/ERBC/Desktop/curso henry/Analisis_evolutivo_NBA/Analisis_evolutivo_NBA/datasets' (sobreescrito si existía).\n",
      "Archivo 'team_info_common.csv' movido a 'C:/Users/ERBC/Desktop/curso henry/Analisis_evolutivo_NBA/Analisis_evolutivo_NBA/datasets' (sobreescrito si existía).\n"
     ]
    }
   ],
   "source": [
    "#mover los archivos de una carpeta a otra\n",
    "import shutil\n",
    "\n",
    "# Rutas de origen y destino\n",
    "origen = 'C:/Users/ERBC/Desktop/curso henry/Analisis_evolutivo_NBA/Analisis_evolutivo_NBA/datasets_descarga/csv'  # Ruta de la carpeta de origen\n",
    "destino = 'C:/Users/ERBC/Desktop/curso henry/Analisis_evolutivo_NBA/Analisis_evolutivo_NBA/datasets'  # Ruta de la carpeta de destino\n",
    "\n",
    "# Verificar que ambas carpetas existen\n",
    "if not os.path.exists(origen):\n",
    "    print(f\"La carpeta de origen '{origen}' no existe.\")\n",
    "elif not os.path.exists(destino):\n",
    "    print(f\"La carpeta de destino '{destino}' no existe.\")\n",
    "else:\n",
    "    # Mover y sobrescribir archivos\n",
    "    for archivo in os.listdir(origen):\n",
    "        ruta_origen = os.path.join(origen, archivo)\n",
    "        ruta_destino = os.path.join(destino, archivo)\n",
    "\n",
    "        if os.path.isfile(ruta_origen):\n",
    "            shutil.move(ruta_origen, ruta_destino)\n",
    "            print(f\"Archivo '{archivo}' movido a '{destino}' (sobreescrito si existía).\")\n",
    "\n",
    "origen = 'C:/Users/ERBC/Desktop/curso henry/Analisis_evolutivo_NBA/Analisis_evolutivo_NBA/datasets_descarga'\n",
    "\n"
   ]
  },
  {
   "cell_type": "code",
   "execution_count": 18,
   "metadata": {},
   "outputs": [
    {
     "name": "stdout",
     "output_type": "stream",
     "text": [
      "Archivo eliminado: nba.sqlite\n"
     ]
    }
   ],
   "source": [
    "origen = 'C:/Users/ERBC/Desktop/curso henry/Analisis_evolutivo_NBA/Analisis_evolutivo_NBA/datasets_descarga'\n",
    "# Eliminar todos los archivos .sqlite en la carpeta de origen\n",
    "for archivo in os.listdir(origen):\n",
    "    if archivo.endswith('.sqlite'):\n",
    "        ruta_archivo = os.path.join(origen, archivo)\n",
    "        os.remove(ruta_archivo)\n",
    "        print(f\"Archivo eliminado: {archivo}\")"
   ]
  }
 ],
 "metadata": {
  "kernelspec": {
   "display_name": ".NBA_venv",
   "language": "python",
   "name": "python3"
  },
  "language_info": {
   "codemirror_mode": {
    "name": "ipython",
    "version": 3
   },
   "file_extension": ".py",
   "mimetype": "text/x-python",
   "name": "python",
   "nbconvert_exporter": "python",
   "pygments_lexer": "ipython3",
   "version": "3.13.1"
  }
 },
 "nbformat": 4,
 "nbformat_minor": 2
}
