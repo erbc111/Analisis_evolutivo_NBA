{
 "cells": [
  {
   "cell_type": "code",
   "execution_count": 1,
   "metadata": {},
   "outputs": [
    {
     "name": "stdout",
     "output_type": "stream",
     "text": [
      "c:\\Users\\ERBC\\AppData\\Local\\Programs\\Python\\Python313\\python.exe\n",
      "C:\\Users\\ERBC\\AppData\\Local\\Microsoft\\WindowsApps\\python.exe\n"
     ]
    }
   ],
   "source": [
    "#activo el entorno\n",
    "! .NBA_venv\\Scripts\\activate \n",
    "#compuebo si estoy trabajando en el entorno\n",
    "! where python"
   ]
  },
  {
   "cell_type": "code",
   "execution_count": 2,
   "metadata": {},
   "outputs": [
    {
     "name": "stdout",
     "output_type": "stream",
     "text": [
      "Requirement already satisfied: kaggle in c:\\users\\erbc\\desktop\\curso henry\\analisis_evolutivo_nba\\analisis_evolutivo_nba\\.nba_venv\\lib\\site-packages (1.6.17)\n",
      "Requirement already satisfied: sqlalchemy in c:\\users\\erbc\\desktop\\curso henry\\analisis_evolutivo_nba\\analisis_evolutivo_nba\\.nba_venv\\lib\\site-packages (2.0.37)\n",
      "Requirement already satisfied: pandas in c:\\users\\erbc\\desktop\\curso henry\\analisis_evolutivo_nba\\analisis_evolutivo_nba\\.nba_venv\\lib\\site-packages (2.2.3)\n",
      "Requirement already satisfied: numpy in c:\\users\\erbc\\desktop\\curso henry\\analisis_evolutivo_nba\\analisis_evolutivo_nba\\.nba_venv\\lib\\site-packages (2.2.2)\n",
      "Requirement already satisfied: six>=1.10 in c:\\users\\erbc\\desktop\\curso henry\\analisis_evolutivo_nba\\analisis_evolutivo_nba\\.nba_venv\\lib\\site-packages (from kaggle) (1.17.0)\n",
      "Requirement already satisfied: certifi>=2023.7.22 in c:\\users\\erbc\\desktop\\curso henry\\analisis_evolutivo_nba\\analisis_evolutivo_nba\\.nba_venv\\lib\\site-packages (from kaggle) (2024.12.14)\n",
      "Requirement already satisfied: python-dateutil in c:\\users\\erbc\\desktop\\curso henry\\analisis_evolutivo_nba\\analisis_evolutivo_nba\\.nba_venv\\lib\\site-packages (from kaggle) (2.9.0.post0)\n",
      "Requirement already satisfied: requests in c:\\users\\erbc\\desktop\\curso henry\\analisis_evolutivo_nba\\analisis_evolutivo_nba\\.nba_venv\\lib\\site-packages (from kaggle) (2.32.3)\n",
      "Requirement already satisfied: tqdm in c:\\users\\erbc\\desktop\\curso henry\\analisis_evolutivo_nba\\analisis_evolutivo_nba\\.nba_venv\\lib\\site-packages (from kaggle) (4.67.1)\n",
      "Requirement already satisfied: python-slugify in c:\\users\\erbc\\desktop\\curso henry\\analisis_evolutivo_nba\\analisis_evolutivo_nba\\.nba_venv\\lib\\site-packages (from kaggle) (8.0.4)\n",
      "Requirement already satisfied: urllib3 in c:\\users\\erbc\\desktop\\curso henry\\analisis_evolutivo_nba\\analisis_evolutivo_nba\\.nba_venv\\lib\\site-packages (from kaggle) (2.3.0)\n",
      "Requirement already satisfied: bleach in c:\\users\\erbc\\desktop\\curso henry\\analisis_evolutivo_nba\\analisis_evolutivo_nba\\.nba_venv\\lib\\site-packages (from kaggle) (6.2.0)\n",
      "Requirement already satisfied: greenlet!=0.4.17 in c:\\users\\erbc\\desktop\\curso henry\\analisis_evolutivo_nba\\analisis_evolutivo_nba\\.nba_venv\\lib\\site-packages (from sqlalchemy) (3.1.1)\n",
      "Requirement already satisfied: typing-extensions>=4.6.0 in c:\\users\\erbc\\desktop\\curso henry\\analisis_evolutivo_nba\\analisis_evolutivo_nba\\.nba_venv\\lib\\site-packages (from sqlalchemy) (4.12.2)\n",
      "Requirement already satisfied: pytz>=2020.1 in c:\\users\\erbc\\desktop\\curso henry\\analisis_evolutivo_nba\\analisis_evolutivo_nba\\.nba_venv\\lib\\site-packages (from pandas) (2024.2)\n",
      "Requirement already satisfied: tzdata>=2022.7 in c:\\users\\erbc\\desktop\\curso henry\\analisis_evolutivo_nba\\analisis_evolutivo_nba\\.nba_venv\\lib\\site-packages (from pandas) (2024.2)\n",
      "Requirement already satisfied: webencodings in c:\\users\\erbc\\desktop\\curso henry\\analisis_evolutivo_nba\\analisis_evolutivo_nba\\.nba_venv\\lib\\site-packages (from bleach->kaggle) (0.5.1)\n",
      "Requirement already satisfied: text-unidecode>=1.3 in c:\\users\\erbc\\desktop\\curso henry\\analisis_evolutivo_nba\\analisis_evolutivo_nba\\.nba_venv\\lib\\site-packages (from python-slugify->kaggle) (1.3)\n",
      "Requirement already satisfied: charset-normalizer<4,>=2 in c:\\users\\erbc\\desktop\\curso henry\\analisis_evolutivo_nba\\analisis_evolutivo_nba\\.nba_venv\\lib\\site-packages (from requests->kaggle) (3.4.1)\n",
      "Requirement already satisfied: idna<4,>=2.5 in c:\\users\\erbc\\desktop\\curso henry\\analisis_evolutivo_nba\\analisis_evolutivo_nba\\.nba_venv\\lib\\site-packages (from requests->kaggle) (3.10)\n",
      "Requirement already satisfied: colorama in c:\\users\\erbc\\desktop\\curso henry\\analisis_evolutivo_nba\\analisis_evolutivo_nba\\.nba_venv\\lib\\site-packages (from tqdm->kaggle) (0.4.6)\n"
     ]
    },
    {
     "name": "stderr",
     "output_type": "stream",
     "text": [
      "\n",
      "[notice] A new release of pip is available: 24.3.1 -> 25.0\n",
      "[notice] To update, run: python.exe -m pip install --upgrade pip\n"
     ]
    }
   ],
   "source": [
    "#instalacion\n",
    "! pip install kaggle sqlalchemy pandas numpy\n",
    "! pip freeze > requirements.txt"
   ]
  },
  {
   "cell_type": "code",
   "execution_count": 8,
   "metadata": {},
   "outputs": [],
   "source": [
    "import os\n",
    "\n",
    "# Configurar la API de Kaggle\n",
    "os.environ['KAGGLE_CONFIG_DIR'] = 'C:/Users/ERBC/Desktop/curso henry/Analisis_evolutivo_NBA/Analisis_evolutivo_NBA/.Kaggle'"
   ]
  },
  {
   "cell_type": "code",
   "execution_count": 9,
   "metadata": {},
   "outputs": [],
   "source": [
    "from kaggle.api.kaggle_api_extended import KaggleApi\n",
    "\n",
    "# Configurar la API\n",
    "api = KaggleApi()\n",
    "api.authenticate()\n"
   ]
  },
  {
   "cell_type": "code",
   "execution_count": 15,
   "metadata": {},
   "outputs": [
    {
     "name": "stdout",
     "output_type": "stream",
     "text": [
      "Dataset URL: https://www.kaggle.com/datasets/wyattowalsh/basketball\n"
     ]
    }
   ],
   "source": [
    "# Descargar el dataset\n",
    "dataset = 'wyattowalsh/basketball'  # identificador del dataset de Kaggle\n",
    "output_path = 'datasets_descarga'\n",
    "api.dataset_download_files(dataset, path=output_path, unzip=True)"
   ]
  },
  {
   "cell_type": "code",
   "execution_count": 15,
   "metadata": {},
   "outputs": [],
   "source": [
    "origen = 'C:/Users/ERBC/Desktop/curso henry/Analisis_evolutivo_NBA/Analisis_evolutivo_NBA/datasets_descarga'\n",
    "# Eliminar todos los archivos .sqlite en la carpeta de origen\n",
    "for archivo in os.listdir(origen):\n",
    "    if archivo.endswith('.sqlite'):\n",
    "        ruta_archivo = os.path.join(origen, archivo)\n",
    "        os.remove(ruta_archivo)\n",
    "        print(f\"Archivo eliminado: {archivo}\")"
   ]
  },
  {
   "cell_type": "code",
   "execution_count": 19,
   "metadata": {},
   "outputs": [
    {
     "name": "stdout",
     "output_type": "stream",
     "text": [
      "True\n",
      "Los archivos son iguales. Eliminado el nuevo para liberar espacio\n",
      "El archivo nuevo 'C:\\Users\\ERBC\\Desktop\\curso henry\\Analisis_evolutivo_NBA\\Analisis_evolutivo_NBA\\datasets_descarga\\csv\\common_player_info.csv' ha sido eliminado.\n"
     ]
    }
   ],
   "source": [
    "# comparar si el archivo descargado es igual al antiguo\n",
    "import pandas as pd\n",
    "\n",
    "archivo_player_info_antiguo = r\"C:\\Users\\ERBC\\Desktop\\curso henry\\Analisis_evolutivo_NBA\\Analisis_evolutivo_NBA\\datasets\\common_player_info.csv\" #se asigna la ruta a una variable\n",
    "df_antiguo1 = pd.read_csv(archivo_player_info_antiguo)\n",
    "\n",
    "archivo_player_info_nuevo = r\"C:\\Users\\ERBC\\Desktop\\curso henry\\Analisis_evolutivo_NBA\\Analisis_evolutivo_NBA\\datasets_descarga\\csv\\common_player_info.csv\" #se asigna la ruta a una variable\n",
    "df_nuevo1 = pd.read_csv(archivo_player_info_nuevo)\n",
    "\n",
    "son_iguales = df_antiguo1.equals(df_nuevo1)\n",
    "print(son_iguales) # True si son iguales, False si no lo son\n",
    "\n",
    "if son_iguales:\n",
    "    print(\"Los archivos son iguales. Eliminado el nuevo para liberar espacio\")\n",
    "    # Eliminar el archivo nuevo\n",
    "    os.remove(archivo_player_info_nuevo)\n",
    "    print(f\"El archivo nuevo '{archivo_player_info_nuevo}' ha sido eliminado.\")\n",
    "else:\n",
    "    print(\"Son diferentes sustituyendo el archivo antiguo por el nuevo....\")\n",
    "    # Sustituir el archivo antiguo por el nuevo\n",
    "    df_nuevo1.to_csv(archivo_player_info_antiguo, index=False)\n",
    "    print(\"El archivo antiguo ha sido sustituido por el nuevo.\")\n",
    "\n",
    "    # Eliminar el archivo nuevo\n",
    "    os.remove(archivo_player_info_nuevo)\n",
    "    print(f\"El archivo nuevo '{archivo_player_info_nuevo}' ha sido eliminado.\")\n",
    "\n",
    "\n"
   ]
  },
  {
   "cell_type": "markdown",
   "metadata": {},
   "source": [
    "#mover los archivos de una carpeta a otra\n",
    "import shutil\n",
    "\n",
    "#Rutas de origen y destino\n",
    "origen = 'C:/Users/ERBC/Desktop/curso henry/Analisis_evolutivo_NBA/Analisis_evolutivo_NBA/datasets_descarga/csv'  # Ruta de la carpeta de origen\n",
    "destino = 'C:/Users/ERBC/Desktop/curso henry/Analisis_evolutivo_NBA/Analisis_evolutivo_NBA/datasets'  # Ruta de la carpeta de destino\n",
    "\n",
    "#Verificar que ambas carpetas existen\n",
    "if not os.path.exists(origen):\n",
    "    print(f\"La carpeta de origen '{origen}' no existe.\")\n",
    "elif not os.path.exists(destino):\n",
    "    print(f\"La carpeta de destino '{destino}' no existe.\")\n",
    "else:\n",
    "    # Mover y sobrescribir archivos\n",
    "    for archivo in os.listdir(origen):\n",
    "        ruta_origen = os.path.join(origen, archivo)\n",
    "        ruta_destino = os.path.join(destino, archivo)\n",
    "\n",
    "        if os.path.isfile(ruta_origen):\n",
    "            shutil.move(ruta_origen, ruta_destino)\n",
    "            print(f\"Archivo '{archivo}' movido a '{destino}' (sobreescrito si existía).\")\n",
    "\n",
    "\n",
    "\n"
   ]
  }
 ],
 "metadata": {
  "kernelspec": {
   "display_name": ".NBA_venv",
   "language": "python",
   "name": "python3"
  },
  "language_info": {
   "codemirror_mode": {
    "name": "ipython",
    "version": 3
   },
   "file_extension": ".py",
   "mimetype": "text/x-python",
   "name": "python",
   "nbconvert_exporter": "python",
   "pygments_lexer": "ipython3",
   "version": "3.13.1"
  }
 },
 "nbformat": 4,
 "nbformat_minor": 2
}
