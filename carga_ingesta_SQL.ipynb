{
 "cells": [
  {
   "cell_type": "code",
   "execution_count": 1,
   "metadata": {},
   "outputs": [
    {
     "name": "stdout",
     "output_type": "stream",
     "text": [
      "c:\\Users\\ERBC\\AppData\\Local\\Programs\\Python\\Python313\\python.exe\n",
      "C:\\Users\\ERBC\\AppData\\Local\\Microsoft\\WindowsApps\\python.exe\n"
     ]
    }
   ],
   "source": [
    "#activo el entorno\n",
    "! .NBA_venv\\Scripts\\activate \n",
    "#compuebo si estoy trabajando en el entorno\n",
    "! where python"
   ]
  },
  {
   "cell_type": "code",
   "execution_count": 2,
   "metadata": {},
   "outputs": [
    {
     "name": "stdout",
     "output_type": "stream",
     "text": [
      "Requirement already satisfied: pyodbc in c:\\users\\erbc\\desktop\\curso henry\\analisis_evolutivo_nba\\analisis_evolutivo_nba\\.nba_venv\\lib\\site-packages (5.2.0)\n"
     ]
    }
   ],
   "source": [
    "! pip install pyodbc\n",
    "! pip freeze > requirements.txt"
   ]
  },
  {
   "cell_type": "code",
   "execution_count": 2,
   "metadata": {},
   "outputs": [],
   "source": [
    "import pandas as pd\n",
    "import pyodbc"
   ]
  },
  {
   "cell_type": "markdown",
   "metadata": {},
   "source": [
    "# player__info_limpio.csv"
   ]
  },
  {
   "cell_type": "code",
   "execution_count": 43,
   "metadata": {},
   "outputs": [
    {
     "name": "stdout",
     "output_type": "stream",
     "text": [
      "Dataset cargado:\n"
     ]
    },
    {
     "data": {
      "text/html": [
       "<div>\n",
       "<style scoped>\n",
       "    .dataframe tbody tr th:only-of-type {\n",
       "        vertical-align: middle;\n",
       "    }\n",
       "\n",
       "    .dataframe tbody tr th {\n",
       "        vertical-align: top;\n",
       "    }\n",
       "\n",
       "    .dataframe thead th {\n",
       "        text-align: right;\n",
       "    }\n",
       "</style>\n",
       "<table border=\"1\" class=\"dataframe\">\n",
       "  <thead>\n",
       "    <tr style=\"text-align: right;\">\n",
       "      <th></th>\n",
       "      <th>person_id</th>\n",
       "      <th>first_name</th>\n",
       "      <th>last_name</th>\n",
       "      <th>display_first_last</th>\n",
       "      <th>display_last_comma_first</th>\n",
       "      <th>display_fi_last</th>\n",
       "      <th>player_slug</th>\n",
       "      <th>birthdate</th>\n",
       "      <th>school</th>\n",
       "      <th>country</th>\n",
       "      <th>...</th>\n",
       "      <th>playercode</th>\n",
       "      <th>from_year</th>\n",
       "      <th>to_year</th>\n",
       "      <th>dleague_flag</th>\n",
       "      <th>nba_flag</th>\n",
       "      <th>games_played_flag</th>\n",
       "      <th>draft_year</th>\n",
       "      <th>draft_round</th>\n",
       "      <th>draft_number</th>\n",
       "      <th>greatest_75_flag</th>\n",
       "    </tr>\n",
       "  </thead>\n",
       "  <tbody>\n",
       "    <tr>\n",
       "      <th>0</th>\n",
       "      <td>76001</td>\n",
       "      <td>Alaa</td>\n",
       "      <td>Abdelnaby</td>\n",
       "      <td>Alaa Abdelnaby</td>\n",
       "      <td>Abdelnaby, Alaa</td>\n",
       "      <td>A. Abdelnaby</td>\n",
       "      <td>alaa-abdelnaby</td>\n",
       "      <td>1968-06-24</td>\n",
       "      <td>Duke</td>\n",
       "      <td>USA</td>\n",
       "      <td>...</td>\n",
       "      <td>HISTADD_alaa_abdelnaby</td>\n",
       "      <td>1990.0</td>\n",
       "      <td>1994.0</td>\n",
       "      <td>N</td>\n",
       "      <td>Y</td>\n",
       "      <td>Y</td>\n",
       "      <td>1990</td>\n",
       "      <td>1</td>\n",
       "      <td>25</td>\n",
       "      <td>N</td>\n",
       "    </tr>\n",
       "    <tr>\n",
       "      <th>1</th>\n",
       "      <td>76003</td>\n",
       "      <td>Kareem</td>\n",
       "      <td>Abdul-Jabbar</td>\n",
       "      <td>Kareem Abdul-Jabbar</td>\n",
       "      <td>Abdul-Jabbar, Kareem</td>\n",
       "      <td>K. Abdul-Jabbar</td>\n",
       "      <td>kareem-abdul-jabbar</td>\n",
       "      <td>1947-04-16</td>\n",
       "      <td>UCLA</td>\n",
       "      <td>USA</td>\n",
       "      <td>...</td>\n",
       "      <td>HISTADD_kareem_abdul-jabbar</td>\n",
       "      <td>1969.0</td>\n",
       "      <td>1988.0</td>\n",
       "      <td>N</td>\n",
       "      <td>Y</td>\n",
       "      <td>Y</td>\n",
       "      <td>1969</td>\n",
       "      <td>1</td>\n",
       "      <td>1</td>\n",
       "      <td>Y</td>\n",
       "    </tr>\n",
       "    <tr>\n",
       "      <th>2</th>\n",
       "      <td>1505</td>\n",
       "      <td>Tariq</td>\n",
       "      <td>Abdul-Wahad</td>\n",
       "      <td>Tariq Abdul-Wahad</td>\n",
       "      <td>Abdul-Wahad, Tariq</td>\n",
       "      <td>T. Abdul-Wahad</td>\n",
       "      <td>tariq-abdul-wahad</td>\n",
       "      <td>1974-11-03</td>\n",
       "      <td>San Jose State</td>\n",
       "      <td>France</td>\n",
       "      <td>...</td>\n",
       "      <td>tariq_abdul-wahad</td>\n",
       "      <td>1997.0</td>\n",
       "      <td>2003.0</td>\n",
       "      <td>N</td>\n",
       "      <td>Y</td>\n",
       "      <td>Y</td>\n",
       "      <td>1997</td>\n",
       "      <td>1</td>\n",
       "      <td>11</td>\n",
       "      <td>N</td>\n",
       "    </tr>\n",
       "    <tr>\n",
       "      <th>3</th>\n",
       "      <td>949</td>\n",
       "      <td>Shareef</td>\n",
       "      <td>Abdur-Rahim</td>\n",
       "      <td>Shareef Abdur-Rahim</td>\n",
       "      <td>Abdur-Rahim, Shareef</td>\n",
       "      <td>S. Abdur-Rahim</td>\n",
       "      <td>shareef-abdur-rahim</td>\n",
       "      <td>1976-12-11</td>\n",
       "      <td>California</td>\n",
       "      <td>USA</td>\n",
       "      <td>...</td>\n",
       "      <td>shareef_abdur-rahim</td>\n",
       "      <td>1996.0</td>\n",
       "      <td>2007.0</td>\n",
       "      <td>N</td>\n",
       "      <td>Y</td>\n",
       "      <td>Y</td>\n",
       "      <td>1996</td>\n",
       "      <td>1</td>\n",
       "      <td>3</td>\n",
       "      <td>N</td>\n",
       "    </tr>\n",
       "    <tr>\n",
       "      <th>4</th>\n",
       "      <td>76005</td>\n",
       "      <td>Tom</td>\n",
       "      <td>Abernethy</td>\n",
       "      <td>Tom Abernethy</td>\n",
       "      <td>Abernethy, Tom</td>\n",
       "      <td>T. Abernethy</td>\n",
       "      <td>tom-abernethy</td>\n",
       "      <td>1954-05-06</td>\n",
       "      <td>Indiana</td>\n",
       "      <td>USA</td>\n",
       "      <td>...</td>\n",
       "      <td>HISTADD_tom_abernethy</td>\n",
       "      <td>1976.0</td>\n",
       "      <td>1980.0</td>\n",
       "      <td>N</td>\n",
       "      <td>Y</td>\n",
       "      <td>Y</td>\n",
       "      <td>1976</td>\n",
       "      <td>3</td>\n",
       "      <td>43</td>\n",
       "      <td>N</td>\n",
       "    </tr>\n",
       "    <tr>\n",
       "      <th>...</th>\n",
       "      <td>...</td>\n",
       "      <td>...</td>\n",
       "      <td>...</td>\n",
       "      <td>...</td>\n",
       "      <td>...</td>\n",
       "      <td>...</td>\n",
       "      <td>...</td>\n",
       "      <td>...</td>\n",
       "      <td>...</td>\n",
       "      <td>...</td>\n",
       "      <td>...</td>\n",
       "      <td>...</td>\n",
       "      <td>...</td>\n",
       "      <td>...</td>\n",
       "      <td>...</td>\n",
       "      <td>...</td>\n",
       "      <td>...</td>\n",
       "      <td>...</td>\n",
       "      <td>...</td>\n",
       "      <td>...</td>\n",
       "      <td>...</td>\n",
       "    </tr>\n",
       "    <tr>\n",
       "      <th>4154</th>\n",
       "      <td>1627835</td>\n",
       "      <td>Paul</td>\n",
       "      <td>Zipser</td>\n",
       "      <td>Paul Zipser</td>\n",
       "      <td>Zipser, Paul</td>\n",
       "      <td>P. Zipser</td>\n",
       "      <td>paul-zipser</td>\n",
       "      <td>1994-02-18</td>\n",
       "      <td>Bayern Munich</td>\n",
       "      <td>Germany</td>\n",
       "      <td>...</td>\n",
       "      <td>paul_zipser</td>\n",
       "      <td>2016.0</td>\n",
       "      <td>2017.0</td>\n",
       "      <td>Y</td>\n",
       "      <td>Y</td>\n",
       "      <td>Y</td>\n",
       "      <td>2016</td>\n",
       "      <td>2</td>\n",
       "      <td>48</td>\n",
       "      <td>N</td>\n",
       "    </tr>\n",
       "    <tr>\n",
       "      <th>4155</th>\n",
       "      <td>1627790</td>\n",
       "      <td>Ante</td>\n",
       "      <td>Zizic</td>\n",
       "      <td>Ante Zizic</td>\n",
       "      <td>Zizic, Ante</td>\n",
       "      <td>A. Zizic</td>\n",
       "      <td>ante-zizic</td>\n",
       "      <td>1997-01-04</td>\n",
       "      <td>Darussafaka</td>\n",
       "      <td>Croatia</td>\n",
       "      <td>...</td>\n",
       "      <td>ante_zizic</td>\n",
       "      <td>2017.0</td>\n",
       "      <td>2019.0</td>\n",
       "      <td>Y</td>\n",
       "      <td>Y</td>\n",
       "      <td>Y</td>\n",
       "      <td>2016</td>\n",
       "      <td>1</td>\n",
       "      <td>23</td>\n",
       "      <td>N</td>\n",
       "    </tr>\n",
       "    <tr>\n",
       "      <th>4156</th>\n",
       "      <td>78647</td>\n",
       "      <td>Jim</td>\n",
       "      <td>Zoet</td>\n",
       "      <td>Jim Zoet</td>\n",
       "      <td>Zoet, Jim</td>\n",
       "      <td>J. Zoet</td>\n",
       "      <td>jim-zoet</td>\n",
       "      <td>1953-12-30</td>\n",
       "      <td>Kent State</td>\n",
       "      <td>USA</td>\n",
       "      <td>...</td>\n",
       "      <td>HISTADD_jim_zoet</td>\n",
       "      <td>1982.0</td>\n",
       "      <td>1982.0</td>\n",
       "      <td>N</td>\n",
       "      <td>Y</td>\n",
       "      <td>Y</td>\n",
       "      <td>0</td>\n",
       "      <td>0</td>\n",
       "      <td>0</td>\n",
       "      <td>N</td>\n",
       "    </tr>\n",
       "    <tr>\n",
       "      <th>4157</th>\n",
       "      <td>1627826</td>\n",
       "      <td>Ivica</td>\n",
       "      <td>Zubac</td>\n",
       "      <td>Ivica Zubac</td>\n",
       "      <td>Zubac, Ivica</td>\n",
       "      <td>I. Zubac</td>\n",
       "      <td>ivica-zubac</td>\n",
       "      <td>1997-03-18</td>\n",
       "      <td>Mega Basket</td>\n",
       "      <td>Croatia</td>\n",
       "      <td>...</td>\n",
       "      <td>ivica_zubac</td>\n",
       "      <td>2016.0</td>\n",
       "      <td>2023.0</td>\n",
       "      <td>Y</td>\n",
       "      <td>Y</td>\n",
       "      <td>Y</td>\n",
       "      <td>2016</td>\n",
       "      <td>2</td>\n",
       "      <td>32</td>\n",
       "      <td>N</td>\n",
       "    </tr>\n",
       "    <tr>\n",
       "      <th>4158</th>\n",
       "      <td>78650</td>\n",
       "      <td>Matt</td>\n",
       "      <td>Zunic</td>\n",
       "      <td>Matt Zunic</td>\n",
       "      <td>Zunic, Matt</td>\n",
       "      <td>M. Zunic</td>\n",
       "      <td>matt-zunic</td>\n",
       "      <td>1919-12-19</td>\n",
       "      <td>George Washington</td>\n",
       "      <td>USA</td>\n",
       "      <td>...</td>\n",
       "      <td>HISTADD_matt_zunic</td>\n",
       "      <td>1948.0</td>\n",
       "      <td>1948.0</td>\n",
       "      <td>N</td>\n",
       "      <td>Y</td>\n",
       "      <td>Y</td>\n",
       "      <td>1947</td>\n",
       "      <td>0</td>\n",
       "      <td>0</td>\n",
       "      <td>N</td>\n",
       "    </tr>\n",
       "  </tbody>\n",
       "</table>\n",
       "<p>4159 rows × 33 columns</p>\n",
       "</div>"
      ],
      "text/plain": [
       "      person_id first_name     last_name   display_first_last  \\\n",
       "0         76001       Alaa     Abdelnaby       Alaa Abdelnaby   \n",
       "1         76003     Kareem  Abdul-Jabbar  Kareem Abdul-Jabbar   \n",
       "2          1505      Tariq   Abdul-Wahad    Tariq Abdul-Wahad   \n",
       "3           949    Shareef   Abdur-Rahim  Shareef Abdur-Rahim   \n",
       "4         76005        Tom     Abernethy        Tom Abernethy   \n",
       "...         ...        ...           ...                  ...   \n",
       "4154    1627835       Paul        Zipser          Paul Zipser   \n",
       "4155    1627790       Ante         Zizic           Ante Zizic   \n",
       "4156      78647        Jim          Zoet             Jim Zoet   \n",
       "4157    1627826      Ivica         Zubac          Ivica Zubac   \n",
       "4158      78650       Matt         Zunic           Matt Zunic   \n",
       "\n",
       "     display_last_comma_first  display_fi_last          player_slug  \\\n",
       "0             Abdelnaby, Alaa     A. Abdelnaby       alaa-abdelnaby   \n",
       "1        Abdul-Jabbar, Kareem  K. Abdul-Jabbar  kareem-abdul-jabbar   \n",
       "2          Abdul-Wahad, Tariq   T. Abdul-Wahad    tariq-abdul-wahad   \n",
       "3        Abdur-Rahim, Shareef   S. Abdur-Rahim  shareef-abdur-rahim   \n",
       "4              Abernethy, Tom     T. Abernethy        tom-abernethy   \n",
       "...                       ...              ...                  ...   \n",
       "4154             Zipser, Paul        P. Zipser          paul-zipser   \n",
       "4155              Zizic, Ante         A. Zizic           ante-zizic   \n",
       "4156                Zoet, Jim          J. Zoet             jim-zoet   \n",
       "4157             Zubac, Ivica         I. Zubac          ivica-zubac   \n",
       "4158              Zunic, Matt         M. Zunic           matt-zunic   \n",
       "\n",
       "       birthdate             school  country  ...  \\\n",
       "0     1968-06-24               Duke      USA  ...   \n",
       "1     1947-04-16               UCLA      USA  ...   \n",
       "2     1974-11-03     San Jose State   France  ...   \n",
       "3     1976-12-11         California      USA  ...   \n",
       "4     1954-05-06            Indiana      USA  ...   \n",
       "...          ...                ...      ...  ...   \n",
       "4154  1994-02-18      Bayern Munich  Germany  ...   \n",
       "4155  1997-01-04        Darussafaka  Croatia  ...   \n",
       "4156  1953-12-30         Kent State      USA  ...   \n",
       "4157  1997-03-18        Mega Basket  Croatia  ...   \n",
       "4158  1919-12-19  George Washington      USA  ...   \n",
       "\n",
       "                       playercode  from_year  to_year  dleague_flag nba_flag  \\\n",
       "0          HISTADD_alaa_abdelnaby     1990.0   1994.0             N        Y   \n",
       "1     HISTADD_kareem_abdul-jabbar     1969.0   1988.0             N        Y   \n",
       "2               tariq_abdul-wahad     1997.0   2003.0             N        Y   \n",
       "3             shareef_abdur-rahim     1996.0   2007.0             N        Y   \n",
       "4           HISTADD_tom_abernethy     1976.0   1980.0             N        Y   \n",
       "...                           ...        ...      ...           ...      ...   \n",
       "4154                  paul_zipser     2016.0   2017.0             Y        Y   \n",
       "4155                   ante_zizic     2017.0   2019.0             Y        Y   \n",
       "4156             HISTADD_jim_zoet     1982.0   1982.0             N        Y   \n",
       "4157                  ivica_zubac     2016.0   2023.0             Y        Y   \n",
       "4158           HISTADD_matt_zunic     1948.0   1948.0             N        Y   \n",
       "\n",
       "     games_played_flag draft_year draft_round  draft_number greatest_75_flag  \n",
       "0                    Y       1990           1            25                N  \n",
       "1                    Y       1969           1             1                Y  \n",
       "2                    Y       1997           1            11                N  \n",
       "3                    Y       1996           1             3                N  \n",
       "4                    Y       1976           3            43                N  \n",
       "...                ...        ...         ...           ...              ...  \n",
       "4154                 Y       2016           2            48                N  \n",
       "4155                 Y       2016           1            23                N  \n",
       "4156                 Y          0           0             0                N  \n",
       "4157                 Y       2016           2            32                N  \n",
       "4158                 Y       1947           0             0                N  \n",
       "\n",
       "[4159 rows x 33 columns]"
      ]
     },
     "execution_count": 43,
     "metadata": {},
     "output_type": "execute_result"
    }
   ],
   "source": [
    "# 1. Leer el dataset desde el archivo CSV\n",
    "ruta_csv = r\"C:\\Users\\ERBC\\Desktop\\curso henry\\Analisis_evolutivo_NBA\\Analisis_evolutivo_NBA\\datasets_limpios\\player__info_limpio.csv\"\n",
    "df = pd.read_csv(ruta_csv)\n",
    "# Mostrar las primeras filas del dataset\n",
    "print(\"Dataset cargado:\")\n",
    "df"
   ]
  },
  {
   "cell_type": "code",
   "execution_count": 44,
   "metadata": {},
   "outputs": [
    {
     "name": "stderr",
     "output_type": "stream",
     "text": [
      "<>:2: SyntaxWarning: invalid escape sequence '\\S'\n",
      "<>:2: SyntaxWarning: invalid escape sequence '\\S'\n",
      "C:\\Users\\ERBC\\AppData\\Local\\Temp\\ipykernel_12276\\3047082533.py:2: SyntaxWarning: invalid escape sequence '\\S'\n",
      "  server = 'ERBC-GAMER\\SQLEXPRESS'  # Nombre del servidor\n"
     ]
    }
   ],
   "source": [
    "# 2. Conectar a la base de datos SQL Server\n",
    "server = 'ERBC-GAMER\\SQLEXPRESS'  # Nombre del servidor\n",
    "database = 'NBA_database'  # Nombre de la base de datos\n",
    "username = 'Sa'  # Usuario de SQL Server\n",
    "password = '1234'  # Contraseña de SQL Server\n",
    "\n",
    "# Cadena de conexión con usuario de sql\n",
    "conn_str = f'DRIVER={{SQL Server}};SERVER={server};DATABASE={database};UID={username};PWD={password}'\n",
    "\n",
    "#conexion con usuario de windows\n",
    "#conn_str = f'DRIVER={{SQL Server}};SERVER={server};DATABASE={database};Trusted_Connection=yes;'\n",
    "\n",
    "# Establecer la conexión\n",
    "conn = pyodbc.connect(conn_str)\n",
    "cursor = conn.cursor()"
   ]
  },
  {
   "cell_type": "code",
   "execution_count": 45,
   "metadata": {},
   "outputs": [
    {
     "name": "stdout",
     "output_type": "stream",
     "text": [
      "La tabla 'common_player_info' ya existe.\n"
     ]
    }
   ],
   "source": [
    "# 3. Crear la tabla en SQL Server (si no existe)\n",
    "table_name = 'common_player_info'\n",
    "\n",
    "# Definir la estructura de la tabla basada en las columnas del dataset\n",
    "create_table_query = f'''\n",
    "CREATE TABLE {table_name} (\n",
    "    person_id INT PRIMARY KEY,\n",
    "    first_name NVARCHAR(50),\n",
    "    last_name NVARCHAR(50),\n",
    "    display_first_last NVARCHAR(100),\n",
    "    display_last_comma_first NVARCHAR(100),\n",
    "    display_fi_last NVARCHAR(100),\n",
    "    player_slug NVARCHAR(100),\n",
    "    birthdate DATE,\n",
    "    school NVARCHAR(100),\n",
    "    country NVARCHAR(50),\n",
    "    last_affiliation NVARCHAR(100),\n",
    "    height NVARCHAR(10),\n",
    "    weight INT,\n",
    "    season_exp INT,\n",
    "    jersey NVARCHAR(10),\n",
    "    position NVARCHAR(50),\n",
    "    rosterstatus NVARCHAR(10),\n",
    "    games_played_current_season_flag NVARCHAR(10),\n",
    "    team_id INT,\n",
    "    team_name NVARCHAR(50),\n",
    "    team_abbreviation NVARCHAR(10),\n",
    "    team_code NVARCHAR(50),\n",
    "    team_city NVARCHAR(50),\n",
    "    playercode NVARCHAR(50),\n",
    "    from_year INT,\n",
    "    to_year INT,\n",
    "    dleague_flag NVARCHAR(10),\n",
    "    nba_flag NVARCHAR(10),\n",
    "    games_played_flag NVARCHAR(10),\n",
    "    draft_year NVARCHAR(50),\n",
    "    draft_round INT,\n",
    "    draft_number INT,\n",
    "    greatest_75_flag NVARCHAR(10)\n",
    ");\n",
    "'''\n",
    "\n",
    "# Ejecutar la consulta para crear la tabla (si no existe)\n",
    "try:\n",
    "    cursor.execute(create_table_query)\n",
    "    conn.commit()\n",
    "    print(f\"Tabla '{table_name}' creada exitosamente.\")\n",
    "except pyodbc.ProgrammingError as e:\n",
    "    if 'There is already an object named' in str(e):\n",
    "        print(f\"La tabla '{table_name}' ya existe.\")\n",
    "    else:\n",
    "        raise e\n",
    "    \n",
    "\n"
   ]
  },
  {
   "cell_type": "markdown",
   "metadata": {},
   "source": [
    "# 4. Insertar los datos en la tabla\n",
    "# Convertir el DataFrame a una lista de tuplas\n",
    "data_tuples = [tuple(row) for row in df.to_numpy()]\n",
    "\n",
    "# Definir la consulta de inserción\n",
    "insert_query = f'''\n",
    "INSERT INTO {table_name} (\n",
    "    person_id, first_name, last_name, display_first_last, display_last_comma_first, \n",
    "    display_fi_last, player_slug, birthdate, school, country, last_affiliation, \n",
    "    height, weight, season_exp, jersey, position, rosterstatus, \n",
    "    games_played_current_season_flag, team_id, team_name, team_abbreviation, \n",
    "    team_code, team_city, playercode, from_year, to_year, dleague_flag, \n",
    "    nba_flag, games_played_flag, draft_year, draft_round, draft_number, \n",
    "    greatest_75_flag\n",
    ") VALUES (?, ?, ?, ?, ?, ?, ?, ?, ?, ?, ?, ?, ?, ?, ?, ?, ?, ?, ?, ?, ?, ?, ?, ?, ?, ?, ?, ?, ?, ?, ?, ?, ?);\n",
    "'''\n",
    "\n",
    "# Ejecutar la inserción\n",
    "try:\n",
    "    cursor.executemany(insert_query, data_tuples)\n",
    "    conn.commit()\n",
    "    print(f\"Datos insertados exitosamente en la tabla '{table_name}'.\")\n",
    "except Exception as e:\n",
    "    print(f\"Error al insertar datos: {e}\")\n",
    "\n",
    "\n"
   ]
  },
  {
   "cell_type": "code",
   "execution_count": 46,
   "metadata": {},
   "outputs": [
    {
     "name": "stdout",
     "output_type": "stream",
     "text": [
      "Datos insertados exitosamente en la tabla 'common_player_info'.\n"
     ]
    }
   ],
   "source": [
    "# 4. Insertar los datos en la tabla\n",
    "# Convertir el DataFrame a una lista de tuplas\n",
    "data_tuples = [tuple(row) for row in df.to_numpy()]\n",
    "\n",
    "# Definir la consulta de inserción con un MERGE para evitar duplicados\n",
    "insert_query = f'''\n",
    "MERGE INTO {table_name} AS target\n",
    "USING (VALUES (?, ?, ?, ?, ?, ?, ?, ?, ?, ?, ?, ?, ?, ?, ?, ?, ?, ?, ?, ?, ?, ?, ?, ?, ?, ?, ?, ?, ?, ?, ?, ?, ?)) AS source (\n",
    "    person_id, first_name, last_name, display_first_last, display_last_comma_first, \n",
    "    display_fi_last, player_slug, birthdate, school, country, last_affiliation, \n",
    "    height, weight, season_exp, jersey, position, rosterstatus, \n",
    "    games_played_current_season_flag, team_id, team_name, team_abbreviation, \n",
    "    team_code, team_city, playercode, from_year, to_year, dleague_flag, \n",
    "    nba_flag, games_played_flag, draft_year, draft_round, draft_number, \n",
    "    greatest_75_flag\n",
    ")\n",
    "ON target.person_id = source.person_id  -- Usar la columna de clave primaria o la columna única\n",
    "WHEN NOT MATCHED BY TARGET THEN\n",
    "    INSERT (\n",
    "        person_id, first_name, last_name, display_first_last, display_last_comma_first, \n",
    "        display_fi_last, player_slug, birthdate, school, country, last_affiliation, \n",
    "        height, weight, season_exp, jersey, position, rosterstatus, \n",
    "        games_played_current_season_flag, team_id, team_name, team_abbreviation, \n",
    "        team_code, team_city, playercode, from_year, to_year, dleague_flag, \n",
    "        nba_flag, games_played_flag, draft_year, draft_round, draft_number, \n",
    "        greatest_75_flag\n",
    "    )\n",
    "    VALUES (\n",
    "        source.person_id, source.first_name, source.last_name, source.display_first_last, source.display_last_comma_first, \n",
    "        source.display_fi_last, source.player_slug, source.birthdate, source.school, source.country, source.last_affiliation, \n",
    "        source.height, source.weight, source.season_exp, source.jersey, source.position, source.rosterstatus, \n",
    "        source.games_played_current_season_flag, source.team_id, source.team_name, source.team_abbreviation, \n",
    "        source.team_code, source.team_city, source.playercode, source.from_year, source.to_year, source.dleague_flag, \n",
    "        source.nba_flag, source.games_played_flag, source.draft_year, source.draft_round, source.draft_number, \n",
    "        source.greatest_75_flag\n",
    "    );\n",
    "'''\n",
    "\n",
    "# Ejecutar la inserción\n",
    "try:\n",
    "    cursor.executemany(insert_query, data_tuples)\n",
    "    conn.commit()\n",
    "    print(f\"Datos insertados exitosamente en la tabla '{table_name}'.\")\n",
    "except Exception as e:\n",
    "    print(f\"Error al insertar datos: {e}\")\n",
    "\n",
    "\n",
    "# Cerrar la conexión\n",
    "cursor.close()\n",
    "conn.close()\n",
    "\n"
   ]
  },
  {
   "cell_type": "markdown",
   "metadata": {},
   "source": [
    "# Cerrar la conexión\n",
    "cursor.close()\n",
    "conn.close()"
   ]
  },
  {
   "cell_type": "markdown",
   "metadata": {},
   "source": [
    "# draft_combine_stats_limpio.csv"
   ]
  },
  {
   "cell_type": "code",
   "execution_count": 47,
   "metadata": {},
   "outputs": [
    {
     "name": "stdout",
     "output_type": "stream",
     "text": [
      "Dataset cargado:\n",
      "<class 'pandas.core.frame.DataFrame'>\n",
      "RangeIndex: 1176 entries, 0 to 1175\n",
      "Data columns (total 21 columns):\n",
      " #   Column                      Non-Null Count  Dtype  \n",
      "---  ------                      --------------  -----  \n",
      " 0   season                      1176 non-null   int64  \n",
      " 1   player_id                   1176 non-null   int64  \n",
      " 2   first_name                  1176 non-null   object \n",
      " 3   last_name                   1176 non-null   object \n",
      " 4   player_name                 1176 non-null   object \n",
      " 5   position                    1176 non-null   object \n",
      " 6   height_wo_shoes             1176 non-null   float64\n",
      " 7   height_wo_shoes_ft_in       1176 non-null   float64\n",
      " 8   height_w_shoes              1176 non-null   float64\n",
      " 9   weight                      1176 non-null   float64\n",
      " 10  wingspan                    1176 non-null   float64\n",
      " 11  standing_reach              1176 non-null   float64\n",
      " 12  body_fat_pct                1176 non-null   float64\n",
      " 13  hand_length                 1176 non-null   float64\n",
      " 14  hand_width                  1176 non-null   float64\n",
      " 15  standing_vertical_leap      1176 non-null   float64\n",
      " 16  max_vertical_leap           1176 non-null   float64\n",
      " 17  lane_agility_time           1176 non-null   float64\n",
      " 18  modified_lane_agility_time  1176 non-null   float64\n",
      " 19  three_quarter_sprint        1176 non-null   float64\n",
      " 20  bench_press                 1176 non-null   float64\n",
      "dtypes: float64(15), int64(2), object(4)\n",
      "memory usage: 193.1+ KB\n"
     ]
    }
   ],
   "source": [
    "# 1. Leer el dataset desde el archivo CSV\n",
    "ruta_csv = r\"C:\\Users\\ERBC\\Desktop\\curso henry\\Analisis_evolutivo_NBA\\Analisis_evolutivo_NBA\\datasets_limpios\\draft_combine_stats_limpio.csv\"\n",
    "df = pd.read_csv(ruta_csv)\n",
    "# Mostrar las primeras filas del dataset\n",
    "print(\"Dataset cargado:\")\n",
    "df.info()\n",
    "\n",
    "#segun la tabla para crear la primary key se debe combinar season: Temporada del draft. player_id: Identificador único del jugador.\n",
    "# Esta combinación garantiza que no habrá registros duplicados para un jugador en una temporada.\n"
   ]
  },
  {
   "cell_type": "code",
   "execution_count": 48,
   "metadata": {},
   "outputs": [
    {
     "name": "stderr",
     "output_type": "stream",
     "text": [
      "<>:2: SyntaxWarning: invalid escape sequence '\\S'\n",
      "<>:2: SyntaxWarning: invalid escape sequence '\\S'\n",
      "C:\\Users\\ERBC\\AppData\\Local\\Temp\\ipykernel_12276\\3047082533.py:2: SyntaxWarning: invalid escape sequence '\\S'\n",
      "  server = 'ERBC-GAMER\\SQLEXPRESS'  # Nombre del servidor\n"
     ]
    }
   ],
   "source": [
    "# 2. Conectar a la base de datos SQL Server\n",
    "server = 'ERBC-GAMER\\SQLEXPRESS'  # Nombre del servidor\n",
    "database = 'NBA_database'  # Nombre de la base de datos\n",
    "username = 'Sa'  # Usuario de SQL Server\n",
    "password = '1234'  # Contraseña de SQL Server\n",
    "\n",
    "# Cadena de conexión con usuario de sql\n",
    "conn_str = f'DRIVER={{SQL Server}};SERVER={server};DATABASE={database};UID={username};PWD={password}'\n",
    "\n",
    "#conexion con usuario de windows\n",
    "#conn_str = f'DRIVER={{SQL Server}};SERVER={server};DATABASE={database};Trusted_Connection=yes;'\n",
    "\n",
    "# Establecer la conexión\n",
    "conn = pyodbc.connect(conn_str)\n",
    "cursor = conn.cursor()"
   ]
  },
  {
   "cell_type": "code",
   "execution_count": 49,
   "metadata": {},
   "outputs": [
    {
     "name": "stdout",
     "output_type": "stream",
     "text": [
      "La tabla 'draft_combine_stats' ya existe.\n"
     ]
    }
   ],
   "source": [
    "# 3. Crear la tabla en SQL Server (si no existe)\n",
    "table_name = 'draft_combine_stats'\n",
    "\n",
    "check_table_query = f'''\n",
    "SELECT COUNT(*) \n",
    "FROM sys.tables \n",
    "WHERE name = '{table_name}';\n",
    "'''\n",
    "\n",
    "cursor.execute(check_table_query)\n",
    "table_exists = cursor.fetchone()[0] #Esta línea ejecuta una consulta SQL que cuenta cuántas tablas existen con el nombre especificado en table_name\n",
    "                                        #Esto devuelve 1 si la tabla existe o 0 si no.\n",
    "\n",
    "if table_exists == 0:\n",
    "    create_table_query = f'''\n",
    "    CREATE TABLE {table_name} (\n",
    "        season INT NOT NULL,\n",
    "        player_id INT NOT NULL,\n",
    "        first_name NVARCHAR(50) NOT NULL,\n",
    "        last_name NVARCHAR(50) NOT NULL,\n",
    "        player_name NVARCHAR(100) NOT NULL,\n",
    "        position NVARCHAR(50) NOT NULL,\n",
    "        height_wo_shoes FLOAT NOT NULL,\n",
    "        height_wo_shoes_ft_in FLOAT NOT NULL,\n",
    "        height_w_shoes FLOAT NOT NULL,\n",
    "        weight FLOAT NOT NULL,\n",
    "        wingspan FLOAT NOT NULL,\n",
    "        standing_reach FLOAT NOT NULL,\n",
    "        body_fat_pct FLOAT NOT NULL,\n",
    "        hand_length FLOAT NOT NULL,\n",
    "        hand_width FLOAT NOT NULL,\n",
    "        standing_vertical_leap FLOAT NOT NULL,\n",
    "        max_vertical_leap FLOAT NOT NULL,\n",
    "        lane_agility_time FLOAT NOT NULL,\n",
    "        modified_lane_agility_time FLOAT NOT NULL,\n",
    "        three_quarter_sprint FLOAT NOT NULL,\n",
    "        bench_press FLOAT NOT NULL,\n",
    "        PRIMARY KEY (season, player_id),\n",
    "        CONSTRAINT UQ_team_draft_combine_stats UNIQUE (season, player_id)\n",
    "    );\n",
    "    '''\n",
    "    cursor.execute(create_table_query)\n",
    "    conn.commit()\n",
    "    print(f\"Tabla '{table_name}' creada exitosamente.\")\n",
    "else:\n",
    "    print(f\"La tabla '{table_name}' ya existe.\")\n",
    "\n"
   ]
  },
  {
   "cell_type": "code",
   "execution_count": 50,
   "metadata": {},
   "outputs": [
    {
     "name": "stdout",
     "output_type": "stream",
     "text": [
      "Datos insertados exitosamente en la tabla 'draft_combine_stats'.\n"
     ]
    }
   ],
   "source": [
    "# Convertir el DataFrame a una lista de tuplas\n",
    "data_tuples = [tuple(row) for row in df.to_numpy()] #El DataFrame se convierte en una lista de tuplas para insertarlas en SQL.\n",
    "\n",
    "# Definir la consulta MERGE para evitar duplicados\n",
    "insert_query = f'''\n",
    "MERGE INTO {table_name} AS target\n",
    "USING (VALUES (?, ?, ?, ?, ?, ?, ?, ?, ?, ?, ?, ?, ?, ?, ?, ?, ?, ?, ?, ?, ?)) AS source (\n",
    "    season, player_id, first_name, last_name, player_name, position,\n",
    "    height_wo_shoes, height_wo_shoes_ft_in, height_w_shoes, weight, wingspan,\n",
    "    standing_reach, body_fat_pct, hand_length, hand_width,\n",
    "    standing_vertical_leap, max_vertical_leap, lane_agility_time,\n",
    "    modified_lane_agility_time, three_quarter_sprint, bench_press\n",
    ")\n",
    "ON target.season = source.season AND target.player_id = source.player_id\n",
    "WHEN NOT MATCHED BY TARGET THEN\n",
    "    INSERT (\n",
    "        season, player_id, first_name, last_name, player_name, position,\n",
    "        height_wo_shoes, height_wo_shoes_ft_in, height_w_shoes, weight, wingspan,\n",
    "        standing_reach, body_fat_pct, hand_length, hand_width,\n",
    "        standing_vertical_leap, max_vertical_leap, lane_agility_time,\n",
    "        modified_lane_agility_time, three_quarter_sprint, bench_press\n",
    "    )\n",
    "    VALUES (\n",
    "        source.season, source.player_id, source.first_name, source.last_name, source.player_name, source.position,\n",
    "        source.height_wo_shoes, source.height_wo_shoes_ft_in, source.height_w_shoes, source.weight, source.wingspan,\n",
    "        source.standing_reach, source.body_fat_pct, source.hand_length, source.hand_width,\n",
    "        source.standing_vertical_leap, source.max_vertical_leap, source.lane_agility_time,\n",
    "        source.modified_lane_agility_time, source.three_quarter_sprint, source.bench_press\n",
    "    );\n",
    "'''\n",
    "\n",
    "# Ejecutar la inserción\n",
    "try:\n",
    "    cursor.executemany(insert_query, data_tuples)\n",
    "    conn.commit()\n",
    "    print(f\"Datos insertados exitosamente en la tabla '{table_name}'.\")\n",
    "except Exception as e:\n",
    "    print(f\"Error al insertar datos: {e}\")\n",
    "\n",
    "# Cerrar la conexión\n",
    "cursor.close()\n",
    "conn.close()"
   ]
  },
  {
   "cell_type": "markdown",
   "metadata": {},
   "source": [
    "# draft_history_limpio.csv"
   ]
  },
  {
   "cell_type": "code",
   "execution_count": 51,
   "metadata": {},
   "outputs": [
    {
     "name": "stdout",
     "output_type": "stream",
     "text": [
      "Dataset cargado:\n",
      "<class 'pandas.core.frame.DataFrame'>\n",
      "RangeIndex: 7969 entries, 0 to 7968\n",
      "Data columns (total 14 columns):\n",
      " #   Column               Non-Null Count  Dtype \n",
      "---  ------               --------------  ----- \n",
      " 0   person_id            7969 non-null   int64 \n",
      " 1   player_name          7969 non-null   object\n",
      " 2   season               7969 non-null   int64 \n",
      " 3   round_number         7969 non-null   int64 \n",
      " 4   round_pick           7969 non-null   int64 \n",
      " 5   overall_pick         7969 non-null   int64 \n",
      " 6   draft_type           7969 non-null   object\n",
      " 7   team_id              7969 non-null   int64 \n",
      " 8   team_city            7969 non-null   object\n",
      " 9   team_name            7969 non-null   object\n",
      " 10  team_abbreviation    7969 non-null   object\n",
      " 11  organization         7969 non-null   object\n",
      " 12  organization_type    7969 non-null   object\n",
      " 13  player_profile_flag  7969 non-null   int64 \n",
      "dtypes: int64(7), object(7)\n",
      "memory usage: 871.7+ KB\n"
     ]
    }
   ],
   "source": [
    "# 1. Leer el dataset desde el archivo CSV\n",
    "ruta_csv = r\"C:\\Users\\ERBC\\Desktop\\curso henry\\Analisis_evolutivo_NBA\\Analisis_evolutivo_NBA\\datasets_limpios\\draft_history_limpio.csv\"\n",
    "df = pd.read_csv(ruta_csv)\n",
    "# Mostrar las primeras filas del dataset\n",
    "print(\"Dataset cargado:\")\n",
    "df.info()\n",
    "\n",
    "\n",
    "#La clave primaria debe ser una combinación de columnas que garantice la unicidad de cada registro. En este caso, la combinación de season y overall_pick es la más adecuada, ya que:\n",
    "#season: Identifica la temporada del draft.\n",
    "#overall_pick: Identifica la selección general en el draft, que es única dentro de una temporada.\n",
    "#Esta combinación garantiza que no habrá registros duplicados para una selección en una temporada específica."
   ]
  },
  {
   "cell_type": "code",
   "execution_count": 52,
   "metadata": {},
   "outputs": [
    {
     "name": "stderr",
     "output_type": "stream",
     "text": [
      "<>:2: SyntaxWarning: invalid escape sequence '\\S'\n",
      "<>:2: SyntaxWarning: invalid escape sequence '\\S'\n",
      "C:\\Users\\ERBC\\AppData\\Local\\Temp\\ipykernel_12276\\3047082533.py:2: SyntaxWarning: invalid escape sequence '\\S'\n",
      "  server = 'ERBC-GAMER\\SQLEXPRESS'  # Nombre del servidor\n"
     ]
    }
   ],
   "source": [
    "# 2. Conectar a la base de datos SQL Server\n",
    "server = 'ERBC-GAMER\\SQLEXPRESS'  # Nombre del servidor\n",
    "database = 'NBA_database'  # Nombre de la base de datos\n",
    "username = 'Sa'  # Usuario de SQL Server\n",
    "password = '1234'  # Contraseña de SQL Server\n",
    "\n",
    "# Cadena de conexión con usuario de sql\n",
    "conn_str = f'DRIVER={{SQL Server}};SERVER={server};DATABASE={database};UID={username};PWD={password}'\n",
    "\n",
    "#conexion con usuario de windows\n",
    "#conn_str = f'DRIVER={{SQL Server}};SERVER={server};DATABASE={database};Trusted_Connection=yes;'\n",
    "\n",
    "# Establecer la conexión\n",
    "conn = pyodbc.connect(conn_str)\n",
    "cursor = conn.cursor()"
   ]
  },
  {
   "cell_type": "code",
   "execution_count": 53,
   "metadata": {},
   "outputs": [
    {
     "name": "stdout",
     "output_type": "stream",
     "text": [
      "La tabla 'draft_history' ya existe.\n"
     ]
    }
   ],
   "source": [
    "# 3. Crear la tabla en SQL Server (si no existe)\n",
    "table_name = 'draft_history'\n",
    "\n",
    "check_table_query = f'''\n",
    "SELECT COUNT(*) \n",
    "FROM sys.tables \n",
    "WHERE name = '{table_name}';\n",
    "'''\n",
    "\n",
    "cursor.execute(check_table_query)\n",
    "table_exists = cursor.fetchone()[0] #Esta línea ejecuta una consulta SQL que cuenta cuántas tablas existen con el nombre especificado en table_name\n",
    "                                        #Esto devuelve 1 si la tabla existe o 0 si no.\n",
    "\n",
    "if table_exists == 0:\n",
    "    create_table_query = f'''\n",
    "    CREATE TABLE {table_name} (\n",
    "    person_id INT NOT NULL,\n",
    "    player_name NVARCHAR(100) NOT NULL,\n",
    "    season INT NOT NULL,\n",
    "    round_number INT NOT NULL,\n",
    "    round_pick INT NOT NULL,\n",
    "    overall_pick INT NOT NULL,\n",
    "    draft_type NVARCHAR(50) NOT NULL,\n",
    "    team_id INT NOT NULL,\n",
    "    team_city NVARCHAR(50) NOT NULL,\n",
    "    team_name NVARCHAR(50) NOT NULL,\n",
    "    team_abbreviation NVARCHAR(30) NOT NULL,\n",
    "    organization NVARCHAR(100) NOT NULL,\n",
    "    organization_type NVARCHAR(50) NOT NULL,\n",
    "    player_profile_flag INT NOT NULL,\n",
    "    PRIMARY KEY (season, overall_pick)\n",
    ");\n",
    "'''\n",
    "    cursor.execute(create_table_query)\n",
    "    conn.commit()\n",
    "    print(f\"Tabla '{table_name}' creada exitosamente.\")\n",
    "else:\n",
    "    print(f\"La tabla '{table_name}' ya existe.\")\n",
    "\n"
   ]
  },
  {
   "cell_type": "code",
   "execution_count": 54,
   "metadata": {},
   "outputs": [
    {
     "name": "stdout",
     "output_type": "stream",
     "text": [
      "Datos insertados exitosamente en la tabla 'draft_history'.\n"
     ]
    }
   ],
   "source": [
    "# Convertir el DataFrame a una lista de tuplas\n",
    "data_tuples = [tuple(row) for row in df.to_numpy()] #El DataFrame se convierte en una lista de tuplas para insertarlas en SQL.\n",
    "\n",
    "# Definir la consulta MERGE para evitar duplicados\n",
    "insert_query = f'''\n",
    "MERGE INTO {table_name} AS target\n",
    "USING (VALUES (?, ?, ?, ?, ?, ?, ?, ?, ?, ?, ?, ?, ?, ?)) AS source (\n",
    "    person_id, player_name, season, round_number, round_pick, overall_pick,\n",
    "    draft_type, team_id, team_city, team_name, team_abbreviation,\n",
    "    organization, organization_type, player_profile_flag\n",
    ")\n",
    "ON target.overall_pick = source.overall_pick AND target.season = source.season\n",
    "WHEN NOT MATCHED BY TARGET THEN\n",
    "    INSERT (\n",
    "        person_id, player_name, season, round_number, round_pick, overall_pick,\n",
    "        draft_type, team_id, team_city, team_name, team_abbreviation,\n",
    "        organization, organization_type, player_profile_flag\n",
    "    )\n",
    "    VALUES (\n",
    "        source.person_id, source.player_name, source.season, source.round_number, source.round_pick, source.overall_pick,\n",
    "        source.draft_type, source.team_id, source.team_city, source.team_name, source.team_abbreviation,\n",
    "        source.organization, source.organization_type, source.player_profile_flag\n",
    "    );\n",
    "'''\n",
    "\n",
    "# Ejecutar la inserción\n",
    "try:\n",
    "    cursor.executemany(insert_query, data_tuples)\n",
    "    conn.commit()\n",
    "    print(f\"Datos insertados exitosamente en la tabla '{table_name}'.\")\n",
    "except Exception as e:\n",
    "    print(f\"Error al insertar datos: {e}\")\n",
    "\n",
    "# Cerrar la conexión\n",
    "cursor.close()\n",
    "conn.close()"
   ]
  },
  {
   "cell_type": "markdown",
   "metadata": {},
   "source": [
    "# game_limpio.csv"
   ]
  },
  {
   "cell_type": "code",
   "execution_count": 119,
   "metadata": {},
   "outputs": [
    {
     "name": "stdout",
     "output_type": "stream",
     "text": [
      "Dataset cargado:\n",
      "¿Todos los game_id son únicos?: True\n",
      "<class 'pandas.core.frame.DataFrame'>\n",
      "RangeIndex: 65642 entries, 0 to 65641\n",
      "Data columns (total 55 columns):\n",
      " #   Column                  Non-Null Count  Dtype         \n",
      "---  ------                  --------------  -----         \n",
      " 0   season_id               65642 non-null  int64         \n",
      " 1   team_id_home            65642 non-null  int64         \n",
      " 2   team_abbreviation_home  65642 non-null  object        \n",
      " 3   team_name_home          65642 non-null  object        \n",
      " 4   game_id                 65642 non-null  int64         \n",
      " 5   game_date               65642 non-null  datetime64[ns]\n",
      " 6   matchup_home            65642 non-null  object        \n",
      " 7   wl_home                 65642 non-null  object        \n",
      " 8   min                     65642 non-null  int64         \n",
      " 9   fgm_home                65642 non-null  float64       \n",
      " 10  fga_home                65642 non-null  float64       \n",
      " 11  fg_pct_home             65642 non-null  float64       \n",
      " 12  fg3m_home               65642 non-null  float64       \n",
      " 13  fg3a_home               65642 non-null  float64       \n",
      " 14  fg3_pct_home            65642 non-null  float64       \n",
      " 15  ftm_home                65642 non-null  float64       \n",
      " 16  fta_home                65642 non-null  float64       \n",
      " 17  ft_pct_home             65642 non-null  float64       \n",
      " 18  oreb_home               65642 non-null  float64       \n",
      " 19  dreb_home               65642 non-null  float64       \n",
      " 20  reb_home                65642 non-null  float64       \n",
      " 21  ast_home                65642 non-null  float64       \n",
      " 22  stl_home                65642 non-null  float64       \n",
      " 23  blk_home                65642 non-null  float64       \n",
      " 24  tov_home                65642 non-null  float64       \n",
      " 25  pf_home                 65642 non-null  float64       \n",
      " 26  pts_home                65642 non-null  float64       \n",
      " 27  plus_minus_home         65642 non-null  int64         \n",
      " 28  video_available_home    65642 non-null  int64         \n",
      " 29  team_id_away            65642 non-null  int64         \n",
      " 30  team_abbreviation_away  65642 non-null  object        \n",
      " 31  team_name_away          65642 non-null  object        \n",
      " 32  matchup_away            65642 non-null  object        \n",
      " 33  wl_away                 65642 non-null  object        \n",
      " 34  fgm_away                65642 non-null  float64       \n",
      " 35  fga_away                65642 non-null  float64       \n",
      " 36  fg_pct_away             65642 non-null  float64       \n",
      " 37  fg3m_away               65642 non-null  float64       \n",
      " 38  fg3a_away               65642 non-null  float64       \n",
      " 39  fg3_pct_away            65642 non-null  float64       \n",
      " 40  ftm_away                65642 non-null  float64       \n",
      " 41  fta_away                65642 non-null  float64       \n",
      " 42  ft_pct_away             65642 non-null  float64       \n",
      " 43  oreb_away               65642 non-null  float64       \n",
      " 44  dreb_away               65642 non-null  float64       \n",
      " 45  reb_away                65642 non-null  float64       \n",
      " 46  ast_away                65642 non-null  float64       \n",
      " 47  stl_away                65642 non-null  float64       \n",
      " 48  blk_away                65642 non-null  float64       \n",
      " 49  tov_away                65642 non-null  float64       \n",
      " 50  pf_away                 65642 non-null  float64       \n",
      " 51  pts_away                65642 non-null  float64       \n",
      " 52  plus_minus_away         65642 non-null  int64         \n",
      " 53  video_available_away    65642 non-null  int64         \n",
      " 54  season_type             65642 non-null  object        \n",
      "dtypes: datetime64[ns](1), float64(36), int64(9), object(9)\n",
      "memory usage: 27.5+ MB\n"
     ]
    }
   ],
   "source": [
    "# 1. Leer el dataset desde el archivo CSV\n",
    "ruta_csv = r\"C:\\Users\\ERBC\\Desktop\\curso henry\\Analisis_evolutivo_NBA\\Analisis_evolutivo_NBA\\datasets_limpios\\game_limpio.csv\"\n",
    "df = pd.read_csv(ruta_csv)\n",
    "# Mostrar las primeras filas del dataset\n",
    "print(\"Dataset cargado:\")\n",
    "\n",
    "df['game_date'] = pd.to_datetime(df['game_date'], errors='coerce') #game date de objeto a date time\n",
    "\n",
    "df['team_abbreviation_home'] = df['team_abbreviation_home'].str.replace(r\"['\\\"]\", \"\", regex=True)\n",
    "df['team_abbreviation_away'] = df['team_abbreviation_away'].str.replace(r\"['\\\"]\", \"\", regex=True)\n",
    "\n",
    "\n",
    "\n",
    "# Verificar si todos los valores de game_id son únicos\n",
    "is_unique = df['game_id'].nunique() == len(df)\n",
    "print(f\"¿Todos los game_id son únicos?: {is_unique}\")\n",
    "\n",
    "\n",
    "df.info()"
   ]
  },
  {
   "cell_type": "code",
   "execution_count": 120,
   "metadata": {},
   "outputs": [
    {
     "name": "stderr",
     "output_type": "stream",
     "text": [
      "<>:2: SyntaxWarning: invalid escape sequence '\\S'\n",
      "<>:2: SyntaxWarning: invalid escape sequence '\\S'\n",
      "C:\\Users\\ERBC\\AppData\\Local\\Temp\\ipykernel_12276\\3047082533.py:2: SyntaxWarning: invalid escape sequence '\\S'\n",
      "  server = 'ERBC-GAMER\\SQLEXPRESS'  # Nombre del servidor\n"
     ]
    }
   ],
   "source": [
    "# 2. Conectar a la base de datos SQL Server\n",
    "server = 'ERBC-GAMER\\SQLEXPRESS'  # Nombre del servidor\n",
    "database = 'NBA_database'  # Nombre de la base de datos\n",
    "username = 'Sa'  # Usuario de SQL Server\n",
    "password = '1234'  # Contraseña de SQL Server\n",
    "\n",
    "# Cadena de conexión con usuario de sql\n",
    "conn_str = f'DRIVER={{SQL Server}};SERVER={server};DATABASE={database};UID={username};PWD={password}'\n",
    "\n",
    "#conexion con usuario de windows\n",
    "#conn_str = f'DRIVER={{SQL Server}};SERVER={server};DATABASE={database};Trusted_Connection=yes;'\n",
    "\n",
    "# Establecer la conexión\n",
    "conn = pyodbc.connect(conn_str)\n",
    "cursor = conn.cursor()"
   ]
  },
  {
   "cell_type": "code",
   "execution_count": 121,
   "metadata": {},
   "outputs": [
    {
     "name": "stdout",
     "output_type": "stream",
     "text": [
      "Tabla 'game' creada exitosamente.\n"
     ]
    }
   ],
   "source": [
    "# 3. Crear la tabla en SQL Server (si no existe)\n",
    "table_name = 'game'\n",
    "\n",
    "check_table_query = f'''\n",
    "SELECT COUNT(*) \n",
    "FROM sys.tables \n",
    "WHERE name = '{table_name}';\n",
    "'''\n",
    "\n",
    "cursor.execute(check_table_query)\n",
    "table_exists = cursor.fetchone()[0] #Esta línea ejecuta una consulta SQL que cuenta cuántas tablas existen con el nombre especificado en table_name\n",
    "                                        #Esto devuelve 1 si la tabla existe o 0 si no.\n",
    "\n",
    "if table_exists == 0:\n",
    "    create_table_query = f'''\n",
    "    CREATE TABLE {table_name} (\n",
    "        game_id INT NOT NULL,\n",
    "        season_id INT NOT NULL,\n",
    "        team_id_home INT NOT NULL,\n",
    "        team_abbreviation_home NVARCHAR(30) NOT NULL,\n",
    "        team_name_home NVARCHAR(50) NOT NULL,\n",
    "        game_date DATE NOT NULL,\n",
    "        matchup_home NVARCHAR(50) NOT NULL,\n",
    "        wl_home NVARCHAR(50) NOT NULL,\n",
    "        min INT NOT NULL,\n",
    "        fgm_home FLOAT NOT NULL,\n",
    "        fga_home FLOAT NOT NULL,\n",
    "        fg_pct_home FLOAT NOT NULL,\n",
    "        fg3m_home FLOAT NOT NULL,\n",
    "        fg3a_home FLOAT NOT NULL,\n",
    "        fg3_pct_home FLOAT NOT NULL,\n",
    "        ftm_home FLOAT NOT NULL,\n",
    "        fta_home FLOAT NOT NULL,\n",
    "        ft_pct_home FLOAT NOT NULL,\n",
    "        oreb_home FLOAT NOT NULL,\n",
    "        dreb_home FLOAT NOT NULL,\n",
    "        reb_home FLOAT NOT NULL,\n",
    "        ast_home FLOAT NOT NULL,\n",
    "        stl_home FLOAT NOT NULL,\n",
    "        blk_home FLOAT NOT NULL,\n",
    "        tov_home FLOAT NOT NULL,\n",
    "        pf_home FLOAT NOT NULL,\n",
    "        pts_home FLOAT NOT NULL,\n",
    "        plus_minus_home INT NOT NULL,\n",
    "        video_available_home INT NOT NULL,\n",
    "        team_id_away INT NOT NULL,\n",
    "        team_abbreviation_away NVARCHAR(50) NOT NULL,\n",
    "        team_name_away NVARCHAR(50) NOT NULL,\n",
    "        matchup_away NVARCHAR(50) NOT NULL,\n",
    "        wl_away NVARCHAR(50) NOT NULL,\n",
    "        fgm_away FLOAT NOT NULL,\n",
    "        fga_away FLOAT NOT NULL,\n",
    "        fg_pct_away FLOAT NOT NULL,\n",
    "        fg3m_away FLOAT NOT NULL,\n",
    "        fg3a_away FLOAT NOT NULL,\n",
    "        fg3_pct_away FLOAT NOT NULL,\n",
    "        ftm_away FLOAT NOT NULL,\n",
    "        fta_away FLOAT NOT NULL,\n",
    "        ft_pct_away FLOAT NOT NULL,\n",
    "        oreb_away FLOAT NOT NULL,\n",
    "        dreb_away FLOAT NOT NULL,\n",
    "        reb_away FLOAT NOT NULL,\n",
    "        ast_away FLOAT NOT NULL,\n",
    "        stl_away FLOAT NOT NULL,\n",
    "        blk_away FLOAT NOT NULL,\n",
    "        tov_away FLOAT NOT NULL,\n",
    "        pf_away FLOAT NOT NULL,\n",
    "        pts_away FLOAT NOT NULL,\n",
    "        plus_minus_away INT NOT NULL,\n",
    "        video_available_away INT NOT NULL,\n",
    "        season_type NVARCHAR(20) NOT NULL,\n",
    "        PRIMARY KEY (game_id)\n",
    "    );\n",
    "    '''\n",
    "    cursor.execute(create_table_query)\n",
    "    conn.commit()\n",
    "    print(f\"Tabla '{table_name}' creada exitosamente.\")\n",
    "else:\n",
    "    print(f\"La tabla '{table_name}' ya existe.\")"
   ]
  },
  {
   "cell_type": "code",
   "execution_count": 122,
   "metadata": {},
   "outputs": [
    {
     "name": "stdout",
     "output_type": "stream",
     "text": [
      "Datos insertados exitosamente en la tabla 'game'.\n"
     ]
    }
   ],
   "source": [
    "# Convertir el DataFrame a una lista de tuplas\n",
    "data_tuples = [tuple(row[:55]) for row in df.to_numpy()]  # Convierte el DataFrame en lista de tuplas\n",
    "\n",
    "# Definir la consulta MERGE para evitar duplicados\n",
    "insert_query = f'''\n",
    "MERGE INTO {table_name} AS target\n",
    "USING (VALUES ({', '.join(['?' for _ in range(55)])})) AS source (\n",
    "    season_id, team_id_home, team_abbreviation_home, team_name_home, game_id, game_date, matchup_home, wl_home, min, fgm_home,\n",
    "    fga_home, fg_pct_home, fg3m_home, fg3a_home, fg3_pct_home, ftm_home, fta_home, ft_pct_home, oreb_home, dreb_home, \n",
    "    reb_home, ast_home, stl_home, blk_home, tov_home, pf_home, pts_home, plus_minus_home, video_available_home, team_id_away, \n",
    "    team_abbreviation_away, team_name_away, matchup_away, wl_away, fgm_away, fga_away, fg_pct_away, fg3m_away, fg3a_away, fg3_pct_away,\n",
    "    ftm_away, fta_away, ft_pct_away, oreb_away, dreb_away, reb_away, ast_away, stl_away, blk_away, tov_away, \n",
    "    pf_away, pts_away, plus_minus_away, video_available_away, season_type\n",
    ")\n",
    "ON target.game_id = source.game_id\n",
    "WHEN NOT MATCHED BY TARGET THEN\n",
    "    INSERT (\n",
    "        season_id, team_id_home, team_abbreviation_home, team_name_home, game_id, game_date,\n",
    "        matchup_home, wl_home, min, fgm_home, fga_home, fg_pct_home, fg3m_home, fg3a_home, fg3_pct_home,\n",
    "        ftm_home, fta_home, ft_pct_home, oreb_home, dreb_home, reb_home, ast_home, stl_home, blk_home, \n",
    "        tov_home, pf_home, pts_home, plus_minus_home, video_available_home,\n",
    "        team_id_away, team_abbreviation_away, team_name_away, matchup_away, wl_away,\n",
    "        fgm_away, fga_away, fg_pct_away, fg3m_away, fg3a_away, fg3_pct_away,\n",
    "        ftm_away, fta_away, ft_pct_away, oreb_away, dreb_away, reb_away, ast_away,\n",
    "        stl_away, blk_away, tov_away, pf_away, pts_away, plus_minus_away, video_available_away,\n",
    "        season_type\n",
    "    )\n",
    "    VALUES (\n",
    "        source.season_id, source.team_id_home, source.team_abbreviation_home, source.team_name_home, source.game_id, source.game_date,\n",
    "        source.matchup_home, source.wl_home, source.min, source.fgm_home, source.fga_home, source.fg_pct_home, \n",
    "        source.fg3m_home, source.fg3a_home, source.fg3_pct_home, source.ftm_home, source.fta_home, source.ft_pct_home, \n",
    "        source.oreb_home, source.dreb_home, source.reb_home, source.ast_home, source.stl_home, source.blk_home, \n",
    "        source.tov_home, source.pf_home, source.pts_home, source.plus_minus_home, source.video_available_home,\n",
    "        source.team_id_away, source.team_abbreviation_away, source.team_name_away, source.matchup_away, source.wl_away,\n",
    "        source.fgm_away, source.fga_away, source.fg_pct_away, source.fg3m_away, source.fg3a_away, source.fg3_pct_away,\n",
    "        source.ftm_away, source.fta_away, source.ft_pct_away, source.oreb_away, source.dreb_away, source.reb_away, source.ast_away,\n",
    "        source.stl_away, source.blk_away, source.tov_away, source.pf_away, source.pts_away, source.plus_minus_away, \n",
    "        source.video_available_away, source.season_type\n",
    "    );\n",
    "'''\n",
    "\n",
    "# Ejecutar la inserción\n",
    "try:\n",
    "    cursor.executemany(insert_query, data_tuples)\n",
    "    conn.commit()\n",
    "    print(f\"Datos insertados exitosamente en la tabla '{table_name}'.\")\n",
    "except Exception as e:\n",
    "    print(f\"Error al insertar datos: {e}\")\n",
    "\n",
    "# Cerrar la conexión\n",
    "cursor.close()\n",
    "conn.close()"
   ]
  },
  {
   "cell_type": "markdown",
   "metadata": {},
   "source": [
    "# game_summary.csv"
   ]
  },
  {
   "cell_type": "code",
   "execution_count": 5,
   "metadata": {},
   "outputs": [
    {
     "name": "stdout",
     "output_type": "stream",
     "text": [
      "Dataset cargado:\n",
      "<class 'pandas.core.frame.DataFrame'>\n",
      "RangeIndex: 58021 entries, 0 to 58020\n",
      "Data columns (total 10 columns):\n",
      " #   Column          Non-Null Count  Dtype \n",
      "---  ------          --------------  ----- \n",
      " 0   game_date       58021 non-null  object\n",
      " 1   game_id         58021 non-null  int64 \n",
      " 2   status_id       58021 non-null  int64 \n",
      " 3   status_text     58021 non-null  object\n",
      " 4   game_code       58021 non-null  object\n",
      " 5   home_team       58021 non-null  int64 \n",
      " 6   visitor_team    58021 non-null  int64 \n",
      " 7   season          58021 non-null  int64 \n",
      " 8   period          58021 non-null  int64 \n",
      " 9   whistle_status  58021 non-null  int64 \n",
      "dtypes: int64(7), object(3)\n",
      "memory usage: 4.4+ MB\n"
     ]
    }
   ],
   "source": [
    "# 1. Leer el dataset desde el archivo CSV\n",
    "ruta_csv = r\"C:\\Users\\ERBC\\Desktop\\curso henry\\Analisis_evolutivo_NBA\\Analisis_evolutivo_NBA\\datasets_limpios\\game_summary_optimizada.csv\"\n",
    "df = pd.read_csv(ruta_csv)\n",
    "# Mostrar las primeras filas del dataset\n",
    "print(\"Dataset cargado:\")\n",
    "df.info()"
   ]
  },
  {
   "cell_type": "code",
   "execution_count": 6,
   "metadata": {},
   "outputs": [
    {
     "name": "stderr",
     "output_type": "stream",
     "text": [
      "<>:2: SyntaxWarning: invalid escape sequence '\\S'\n",
      "<>:2: SyntaxWarning: invalid escape sequence '\\S'\n",
      "C:\\Users\\ERBC\\AppData\\Local\\Temp\\ipykernel_10928\\3047082533.py:2: SyntaxWarning: invalid escape sequence '\\S'\n",
      "  server = 'ERBC-GAMER\\SQLEXPRESS'  # Nombre del servidor\n"
     ]
    }
   ],
   "source": [
    "# 2. Conectar a la base de datos SQL Server\n",
    "server = 'ERBC-GAMER\\SQLEXPRESS'  # Nombre del servidor\n",
    "database = 'NBA_database'  # Nombre de la base de datos\n",
    "username = 'Sa'  # Usuario de SQL Server\n",
    "password = '1234'  # Contraseña de SQL Server\n",
    "\n",
    "# Cadena de conexión con usuario de sql\n",
    "conn_str = f'DRIVER={{SQL Server}};SERVER={server};DATABASE={database};UID={username};PWD={password}'\n",
    "\n",
    "#conexion con usuario de windows\n",
    "#conn_str = f'DRIVER={{SQL Server}};SERVER={server};DATABASE={database};Trusted_Connection=yes;'\n",
    "\n",
    "# Establecer la conexión\n",
    "conn = pyodbc.connect(conn_str)\n",
    "cursor = conn.cursor()"
   ]
  },
  {
   "cell_type": "code",
   "execution_count": 7,
   "metadata": {},
   "outputs": [
    {
     "name": "stdout",
     "output_type": "stream",
     "text": [
      "Tabla 'game_summary' creada exitosamente.\n"
     ]
    }
   ],
   "source": [
    "# 3. Crear la tabla en SQL Server (si no existe)\n",
    "table_name = 'game_summary'\n",
    "\n",
    "# Consulta para verificar si la tabla ya existe\n",
    "check_table_query = f'''\n",
    "SELECT COUNT(*) \n",
    "FROM sys.tables \n",
    "WHERE name = '{table_name}';\n",
    "'''\n",
    "\n",
    "cursor.execute(check_table_query)\n",
    "table_exists = cursor.fetchone()[0]  # Devuelve 1 si la tabla existe, 0 si no.\n",
    "\n",
    "if table_exists == 0:\n",
    "    # Consulta para crear la tabla\n",
    "    create_table_query = f'''\n",
    "    CREATE TABLE {table_name} (\n",
    "        game_date DATE NOT NULL,          -- Fecha del partido\n",
    "        game_id INT NOT NULL,             -- Identificador único del partido\n",
    "        status_id INT NOT NULL,           -- ID del estado del partido\n",
    "        status_text NVARCHAR(100) NOT NULL, -- Texto del estado del partido\n",
    "        game_code NVARCHAR(50) NOT NULL,  -- Código del partido\n",
    "        home_team INT NOT NULL,           -- ID del equipo local\n",
    "        visitor_team INT NOT NULL,        -- ID del equipo visitante\n",
    "        season INT NOT NULL,              -- Temporada del partido\n",
    "        period INT NOT NULL,              -- Período del partido\n",
    "        whistle_status INT NOT NULL,      -- Estado del silbato (¿finalizado?)\n",
    "        PRIMARY KEY (game_id)             -- Clave primaria\n",
    "    );\n",
    "    '''\n",
    "    cursor.execute(create_table_query)\n",
    "    conn.commit()\n",
    "    print(f\"Tabla '{table_name}' creada exitosamente.\")\n",
    "else:\n",
    "    print(f\"La tabla '{table_name}' ya existe.\")"
   ]
  },
  {
   "cell_type": "code",
   "execution_count": 8,
   "metadata": {},
   "outputs": [
    {
     "name": "stdout",
     "output_type": "stream",
     "text": [
      "Datos insertados exitosamente en la tabla 'game_summary'.\n"
     ]
    }
   ],
   "source": [
    "# Convertir el DataFrame a una lista de tuplas\n",
    "data_tuples = [tuple(row) for row in df.to_numpy()]  # Convierte el DataFrame en lista de tuplas\n",
    "\n",
    "# Definir la consulta MERGE para evitar duplicados\n",
    "insert_query = f'''\n",
    "MERGE INTO {table_name} AS target\n",
    "USING (VALUES ({', '.join(['?' for _ in range(10)])})) AS source (\n",
    "    game_date, game_id, status_id, status_text, game_code, \n",
    "    home_team, visitor_team, season, period, whistle_status\n",
    ")\n",
    "ON target.game_id = source.game_id\n",
    "WHEN NOT MATCHED BY TARGET THEN\n",
    "    INSERT (\n",
    "        game_date, game_id, status_id, status_text, game_code, \n",
    "        home_team, visitor_team, season, period, whistle_status\n",
    "    )\n",
    "    VALUES (\n",
    "        source.game_date, source.game_id, source.status_id, source.status_text, source.game_code, \n",
    "        source.home_team, source.visitor_team, source.season, source.period, source.whistle_status\n",
    "    );\n",
    "'''\n",
    "\n",
    "# Ejecutar la inserción\n",
    "try:\n",
    "    cursor.executemany(insert_query, data_tuples)\n",
    "    conn.commit()\n",
    "    print(f\"Datos insertados exitosamente en la tabla '{table_name}'.\")\n",
    "except Exception as e:\n",
    "    print(f\"Error al insertar datos: {e}\")\n",
    "\n",
    "# Cerrar la conexión\n",
    "cursor.close()\n",
    "conn.close()"
   ]
  },
  {
   "cell_type": "markdown",
   "metadata": {},
   "source": [
    "# Game_info"
   ]
  },
  {
   "cell_type": "code",
   "execution_count": 9,
   "metadata": {},
   "outputs": [
    {
     "name": "stdout",
     "output_type": "stream",
     "text": [
      "Dataset cargado:\n",
      "<class 'pandas.core.frame.DataFrame'>\n",
      "RangeIndex: 58053 entries, 0 to 58052\n",
      "Data columns (total 3 columns):\n",
      " #   Column      Non-Null Count  Dtype  \n",
      "---  ------      --------------  -----  \n",
      " 0   game_id     58053 non-null  int64  \n",
      " 1   game_date   58053 non-null  object \n",
      " 2   attendance  58053 non-null  float64\n",
      "dtypes: float64(1), int64(1), object(1)\n",
      "memory usage: 1.3+ MB\n"
     ]
    }
   ],
   "source": [
    "# 1. Leer el dataset desde el archivo CSV\n",
    "ruta_csv = r\"C:\\Users\\ERBC\\Desktop\\curso henry\\Analisis_evolutivo_NBA\\Analisis_evolutivo_NBA\\datasets_limpios\\game_info_optimizada.csv\"\n",
    "df = pd.read_csv(ruta_csv)\n",
    "# Mostrar las primeras filas del dataset\n",
    "print(\"Dataset cargado:\")\n",
    "df.info()"
   ]
  },
  {
   "cell_type": "code",
   "execution_count": 23,
   "metadata": {},
   "outputs": [
    {
     "name": "stdout",
     "output_type": "stream",
     "text": [
      "Conectado al server\n"
     ]
    },
    {
     "name": "stderr",
     "output_type": "stream",
     "text": [
      "<>:3: SyntaxWarning: invalid escape sequence '\\S'\n",
      "<>:3: SyntaxWarning: invalid escape sequence '\\S'\n",
      "C:\\Users\\ERBC\\AppData\\Local\\Temp\\ipykernel_10928\\4263193143.py:3: SyntaxWarning: invalid escape sequence '\\S'\n",
      "  server = 'ERBC-GAMER\\SQLEXPRESS'  # Nombre del servidor\n"
     ]
    }
   ],
   "source": [
    "def conectar_sql():\n",
    "        # 2. Conectar a la base de datos SQL Server\n",
    "    server = 'ERBC-GAMER\\SQLEXPRESS'  # Nombre del servidor\n",
    "    database = 'NBA_database'  # Nombre de la base de datos\n",
    "    username = 'Sa'  # Usuario de SQL Server\n",
    "    password = '1234'  # Contraseña de SQL Server\n",
    "\n",
    "    # Cadena de conexión con usuario de sql\n",
    "    conn_str = f'DRIVER={{SQL Server}};SERVER={server};DATABASE={database};UID={username};PWD={password}'\n",
    "\n",
    "    #conexion con usuario de windows\n",
    "    #conn_str = f'DRIVER={{SQL Server}};SERVER={server};DATABASE={database};Trusted_Connection=yes;'\n",
    "\n",
    "    # Establecer la conexión\n",
    "    conn = pyodbc.connect(conn_str)\n",
    "    cursor = conn.cursor()\n",
    "    print(\"Conectado al server\")\n",
    "\n",
    "conectar_sql()"
   ]
  },
  {
   "cell_type": "code",
   "execution_count": 14,
   "metadata": {},
   "outputs": [
    {
     "name": "stdout",
     "output_type": "stream",
     "text": [
      "La tabla 'game_info' ya existe.\n"
     ]
    }
   ],
   "source": [
    "# 3. Crear la tabla en SQL Server (si no existe)\n",
    "table_name = 'game_info'\n",
    "\n",
    "# Consulta para verificar si la tabla ya existe\n",
    "check_table_query = f'''\n",
    "SELECT COUNT(*) \n",
    "FROM sys.tables \n",
    "WHERE name = '{table_name}';\n",
    "'''\n",
    "\n",
    "cursor.execute(check_table_query)\n",
    "table_exists = cursor.fetchone()[0]  # Devuelve 1 si la tabla existe, 0 si no.\n",
    "\n",
    "if table_exists == 0:\n",
    "    # Consulta para crear la tabla\n",
    "    create_table_query = f'''\n",
    "    CREATE TABLE {table_name} (\n",
    "        game_id INT NOT NULL PRIMARY KEY,  -- Identificador único del partido\n",
    "        game_date DATE NOT NULL,           -- Fecha del partido\n",
    "        attendance INT NOT NULL            -- Asistencia al partido\n",
    "    );\n",
    "    '''\n",
    "    cursor.execute(create_table_query)\n",
    "    conn.commit()\n",
    "    print(f\"Tabla '{table_name}' creada exitosamente.\")\n",
    "else:\n",
    "    print(f\"La tabla '{table_name}' ya existe.\")\n"
   ]
  },
  {
   "cell_type": "code",
   "execution_count": 15,
   "metadata": {},
   "outputs": [
    {
     "name": "stdout",
     "output_type": "stream",
     "text": [
      "Datos insertados exitosamente en la tabla 'game_info'.\n"
     ]
    }
   ],
   "source": [
    "# Convertir el DataFrame a una lista de tuplas\n",
    "data_tuples = [tuple(row) for row in df.to_numpy()]  # Convierte el DataFrame en lista de tuplas\n",
    "\n",
    "# Definir la consulta MERGE para evitar duplicados\n",
    "insert_query = f'''\n",
    "MERGE INTO {table_name} AS target\n",
    "USING (VALUES (?, ?, ?)) AS source (game_id, game_date, attendance)\n",
    "ON target.game_id = source.game_id\n",
    "WHEN NOT MATCHED BY TARGET THEN\n",
    "    INSERT (game_id, game_date, attendance)\n",
    "    VALUES (source.game_id, source.game_date, source.attendance);\n",
    "'''\n",
    "\n",
    "# Ejecutar la inserción\n",
    "try:\n",
    "    cursor.executemany(insert_query, data_tuples)\n",
    "    conn.commit()\n",
    "    print(f\"Datos insertados exitosamente en la tabla '{table_name}'.\")\n",
    "except Exception as e:\n",
    "    print(f\"Error al insertar datos: {e}\")\n",
    "\n",
    "# Cerrar la conexión\n",
    "cursor.close()\n",
    "conn.close()\n"
   ]
  },
  {
   "cell_type": "markdown",
   "metadata": {},
   "source": [
    "# Line_score"
   ]
  },
  {
   "cell_type": "code",
   "execution_count": 16,
   "metadata": {},
   "outputs": [
    {
     "name": "stdout",
     "output_type": "stream",
     "text": [
      "Dataset cargado:\n",
      "<class 'pandas.core.frame.DataFrame'>\n",
      "RangeIndex: 58053 entries, 0 to 58052\n",
      "Data columns (total 43 columns):\n",
      " #   Column                  Non-Null Count  Dtype  \n",
      "---  ------                  --------------  -----  \n",
      " 0   game_date_est           58053 non-null  object \n",
      " 1   game_sequence           58053 non-null  int64  \n",
      " 2   game_id                 58053 non-null  int64  \n",
      " 3   team_id_home            58053 non-null  int64  \n",
      " 4   team_abbreviation_home  58053 non-null  object \n",
      " 5   team_city_name_home     58053 non-null  object \n",
      " 6   team_nickname_home      58053 non-null  object \n",
      " 7   team_wins_losses_home   58053 non-null  object \n",
      " 8   pts_qtr1_home           58053 non-null  float64\n",
      " 9   pts_qtr2_home           58053 non-null  float64\n",
      " 10  pts_qtr3_home           58053 non-null  float64\n",
      " 11  pts_qtr4_home           58053 non-null  float64\n",
      " 12  pts_ot1_home            58053 non-null  float64\n",
      " 13  pts_ot2_home            58053 non-null  float64\n",
      " 14  pts_ot3_home            58053 non-null  float64\n",
      " 15  pts_ot4_home            58053 non-null  float64\n",
      " 16  pts_ot5_home            58053 non-null  float64\n",
      " 17  pts_ot6_home            58053 non-null  float64\n",
      " 18  pts_ot7_home            58053 non-null  float64\n",
      " 19  pts_ot8_home            58053 non-null  float64\n",
      " 20  pts_ot9_home            58053 non-null  float64\n",
      " 21  pts_ot10_home           58053 non-null  float64\n",
      " 22  pts_home                58053 non-null  float64\n",
      " 23  team_id_away            58053 non-null  int64  \n",
      " 24  team_abbreviation_away  58053 non-null  object \n",
      " 25  team_city_name_away     58053 non-null  object \n",
      " 26  team_nickname_away      58053 non-null  object \n",
      " 27  team_wins_losses_away   58053 non-null  object \n",
      " 28  pts_qtr1_away           58053 non-null  float64\n",
      " 29  pts_qtr2_away           58053 non-null  float64\n",
      " 30  pts_qtr3_away           58053 non-null  float64\n",
      " 31  pts_qtr4_away           58053 non-null  float64\n",
      " 32  pts_ot1_away            58053 non-null  float64\n",
      " 33  pts_ot2_away            58053 non-null  float64\n",
      " 34  pts_ot3_away            58053 non-null  float64\n",
      " 35  pts_ot4_away            58053 non-null  float64\n",
      " 36  pts_ot5_away            58053 non-null  float64\n",
      " 37  pts_ot6_away            58053 non-null  float64\n",
      " 38  pts_ot7_away            58053 non-null  float64\n",
      " 39  pts_ot8_away            58053 non-null  float64\n",
      " 40  pts_ot9_away            58053 non-null  float64\n",
      " 41  pts_ot10_away           58053 non-null  float64\n",
      " 42  pts_away                58053 non-null  float64\n",
      "dtypes: float64(30), int64(4), object(9)\n",
      "memory usage: 19.0+ MB\n"
     ]
    }
   ],
   "source": [
    "# 1. Leer el dataset desde el archivo CSV\n",
    "ruta_csv = r\"C:\\Users\\ERBC\\Desktop\\curso henry\\Analisis_evolutivo_NBA\\Analisis_evolutivo_NBA\\datasets_limpios\\line_score_optimizada.csv\"\n",
    "df = pd.read_csv(ruta_csv)\n",
    "# Mostrar las primeras filas del dataset\n",
    "print(\"Dataset cargado:\")\n",
    "df.info()"
   ]
  },
  {
   "cell_type": "code",
   "execution_count": 27,
   "metadata": {},
   "outputs": [
    {
     "name": "stdout",
     "output_type": "stream",
     "text": [
      "Conectado al server\n"
     ]
    },
    {
     "name": "stderr",
     "output_type": "stream",
     "text": [
      "<>:2: SyntaxWarning: invalid escape sequence '\\S'\n",
      "<>:2: SyntaxWarning: invalid escape sequence '\\S'\n",
      "C:\\Users\\ERBC\\AppData\\Local\\Temp\\ipykernel_10928\\195718536.py:2: SyntaxWarning: invalid escape sequence '\\S'\n",
      "  server = 'ERBC-GAMER\\SQLEXPRESS'  # Nombre del servidor\n"
     ]
    }
   ],
   "source": [
    "# 2. Conectar a la base de datos SQL Server\n",
    "server = 'ERBC-GAMER\\SQLEXPRESS'  # Nombre del servidor\n",
    "database = 'NBA_database'  # Nombre de la base de datos\n",
    "username = 'Sa'  # Usuario de SQL Server\n",
    "password = '1234'  # Contraseña de SQL Server\n",
    "\n",
    "# Cadena de conexión con usuario de sql\n",
    "conn_str = f'DRIVER={{SQL Server}};SERVER={server};DATABASE={database};UID={username};PWD={password}'\n",
    "\n",
    "#conexion con usuario de windows\n",
    "#conn_str = f'DRIVER={{SQL Server}};SERVER={server};DATABASE={database};Trusted_Connection=yes;'\n",
    "\n",
    "# Establecer la conexión\n",
    "conn = pyodbc.connect(conn_str)\n",
    "cursor = conn.cursor()\n",
    "print(\"Conectado al server\")"
   ]
  },
  {
   "cell_type": "code",
   "execution_count": 28,
   "metadata": {},
   "outputs": [
    {
     "name": "stdout",
     "output_type": "stream",
     "text": [
      "Tabla 'line_score' creada exitosamente.\n"
     ]
    }
   ],
   "source": [
    "# Definir el nombre de la tabla\n",
    "table_name = 'line_score'\n",
    "\n",
    "# Consulta para verificar si la tabla ya existe\n",
    "check_table_query = f'''\n",
    "SELECT COUNT(*) \n",
    "FROM sys.tables \n",
    "WHERE name = '{table_name}';\n",
    "'''\n",
    "\n",
    "cursor.execute(check_table_query)\n",
    "table_exists = cursor.fetchone()[0]  # Devuelve 1 si la tabla existe, 0 si no.\n",
    "\n",
    "if table_exists == 0:\n",
    "    # Consulta para crear la tabla\n",
    "    create_table_query = f'''\n",
    "    CREATE TABLE {table_name} (\n",
    "        game_date_est DATE NOT NULL,          -- Fecha del partido\n",
    "        game_sequence INT NOT NULL,           -- Secuencia del partido\n",
    "        game_id INT NOT NULL,                 -- Identificador del partido\n",
    "        team_id_home INT NOT NULL,            -- ID del equipo local\n",
    "        team_abbreviation_home NVARCHAR(50) NOT NULL, -- Abreviatura del equipo local\n",
    "        team_city_name_home NVARCHAR(50) NOT NULL,   -- Ciudad del equipo local\n",
    "        team_nickname_home NVARCHAR(50) NOT NULL,    -- Apodo del equipo local\n",
    "        team_wins_losses_home NVARCHAR(50) NOT NULL, -- Registro de victorias y derrotas del equipo local\n",
    "        pts_qtr1_home FLOAT NOT NULL,         -- Puntos del equipo local en el 1er cuarto\n",
    "        pts_qtr2_home FLOAT NOT NULL,         -- Puntos del equipo local en el 2do cuarto\n",
    "        pts_qtr3_home FLOAT NOT NULL,         -- Puntos del equipo local en el 3er cuarto\n",
    "        pts_qtr4_home FLOAT NOT NULL,         -- Puntos del equipo local en el 4to cuarto\n",
    "        pts_ot1_home FLOAT NOT NULL,          -- Puntos del equipo local en la 1ra prórroga\n",
    "        pts_ot2_home FLOAT NOT NULL,          -- Puntos del equipo local en la 2da prórroga\n",
    "        pts_ot3_home FLOAT NOT NULL,          -- Puntos del equipo local en la 3ra prórroga\n",
    "        pts_ot4_home FLOAT NOT NULL,          -- Puntos del equipo local en la 4ta prórroga\n",
    "        pts_ot5_home FLOAT NOT NULL,          -- Puntos del equipo local en la 5ta prórroga\n",
    "        pts_ot6_home FLOAT NOT NULL,          -- Puntos del equipo local en la 6ta prórroga\n",
    "        pts_ot7_home FLOAT NOT NULL,          -- Puntos del equipo local en la 7ma prórroga\n",
    "        pts_ot8_home FLOAT NOT NULL,          -- Puntos del equipo local en la 8va prórroga\n",
    "        pts_ot9_home FLOAT NOT NULL,          -- Puntos del equipo local en la 9na prórroga\n",
    "        pts_ot10_home FLOAT NOT NULL,         -- Puntos del equipo local en la 10ma prórroga\n",
    "        pts_home FLOAT NOT NULL,              -- Total de puntos del equipo local\n",
    "        team_id_away INT NOT NULL,            -- ID del equipo visitante\n",
    "        team_abbreviation_away NVARCHAR(50) NOT NULL, -- Abreviatura del equipo visitante\n",
    "        team_city_name_away NVARCHAR(50) NOT NULL,    -- Ciudad del equipo visitante\n",
    "        team_nickname_away NVARCHAR(50) NOT NULL,     -- Apodo del equipo visitante\n",
    "        team_wins_losses_away NVARCHAR(50) NOT NULL,  -- Registro de victorias y derrotas del equipo visitante\n",
    "        pts_qtr1_away FLOAT NOT NULL,         -- Puntos del equipo visitante en el 1er cuarto\n",
    "        pts_qtr2_away FLOAT NOT NULL,         -- Puntos del equipo visitante en el 2do cuarto\n",
    "        pts_qtr3_away FLOAT NOT NULL,         -- Puntos del equipo visitante en el 3er cuarto\n",
    "        pts_qtr4_away FLOAT NOT NULL,         -- Puntos del equipo visitante en el 4to cuarto\n",
    "        pts_ot1_away FLOAT NOT NULL,          -- Puntos del equipo visitante en la 1ra prórroga\n",
    "        pts_ot2_away FLOAT NOT NULL,          -- Puntos del equipo visitante en la 2da prórroga\n",
    "        pts_ot3_away FLOAT NOT NULL,          -- Puntos del equipo visitante en la 3ra prórroga\n",
    "        pts_ot4_away FLOAT NOT NULL,          -- Puntos del equipo visitante en la 4ta prórroga\n",
    "        pts_ot5_away FLOAT NOT NULL,          -- Puntos del equipo visitante en la 5ta prórroga\n",
    "        pts_ot6_away FLOAT NOT NULL,          -- Puntos del equipo visitante en la 6ta prórroga\n",
    "        pts_ot7_away FLOAT NOT NULL,          -- Puntos del equipo visitante en la 7ma prórroga\n",
    "        pts_ot8_away FLOAT NOT NULL,          -- Puntos del equipo visitante en la 8va prórroga\n",
    "        pts_ot9_away FLOAT NOT NULL,          -- Puntos del equipo visitante en la 9na prórroga\n",
    "        pts_ot10_away FLOAT NOT NULL,         -- Puntos del equipo visitante en la 10ma prórroga\n",
    "        pts_away FLOAT NOT NULL,              -- Total de puntos del equipo visitante\n",
    "        PRIMARY KEY (game_id, team_id_home, team_id_away) -- Clave primaria compuesta\n",
    "    );\n",
    "    '''\n",
    "    cursor.execute(create_table_query)\n",
    "    conn.commit()\n",
    "    print(f\"Tabla '{table_name}' creada exitosamente.\")\n",
    "else:\n",
    "    print(f\"La tabla '{table_name}' ya existe.\")\n"
   ]
  },
  {
   "cell_type": "code",
   "execution_count": 30,
   "metadata": {},
   "outputs": [
    {
     "name": "stdout",
     "output_type": "stream",
     "text": [
      "Datos insertados exitosamente en la tabla 'line_score'.\n"
     ]
    }
   ],
   "source": [
    "# Convertir el DataFrame a una lista de tuplas\n",
    "data_tuples = [tuple(row) for row in df.to_numpy()]  # Convierte el DataFrame en lista de tuplas\n",
    "\n",
    "# Definir la consulta MERGE para evitar duplicados\n",
    "insert_query = f'''\n",
    "MERGE INTO {table_name} AS target\n",
    "USING (VALUES ({', '.join(['?' for _ in range(43)])})) AS source (\n",
    "    game_date_est, game_sequence, game_id, team_id_home, team_abbreviation_home, \n",
    "    team_city_name_home, team_nickname_home, team_wins_losses_home, pts_qtr1_home, \n",
    "    pts_qtr2_home, pts_qtr3_home, pts_qtr4_home, pts_ot1_home, pts_ot2_home, pts_ot3_home, \n",
    "    pts_ot4_home, pts_ot5_home, pts_ot6_home, pts_ot7_home, pts_ot8_home, pts_ot9_home, \n",
    "    pts_ot10_home, pts_home, team_id_away, team_abbreviation_away, team_city_name_away, \n",
    "    team_nickname_away, team_wins_losses_away, pts_qtr1_away, pts_qtr2_away, pts_qtr3_away, \n",
    "    pts_qtr4_away, pts_ot1_away, pts_ot2_away, pts_ot3_away, pts_ot4_away, pts_ot5_away, \n",
    "    pts_ot6_away, pts_ot7_away, pts_ot8_away, pts_ot9_away, pts_ot10_away, pts_away\n",
    ")\n",
    "ON target.game_id = source.game_id AND target.team_id_home = source.team_id_home AND target.team_id_away = source.team_id_away\n",
    "WHEN NOT MATCHED BY TARGET THEN\n",
    "    INSERT (\n",
    "        game_date_est, game_sequence, game_id, team_id_home, team_abbreviation_home, \n",
    "        team_city_name_home, team_nickname_home, team_wins_losses_home, pts_qtr1_home, \n",
    "        pts_qtr2_home, pts_qtr3_home, pts_qtr4_home, pts_ot1_home, pts_ot2_home, pts_ot3_home, \n",
    "        pts_ot4_home, pts_ot5_home, pts_ot6_home, pts_ot7_home, pts_ot8_home, pts_ot9_home, \n",
    "        pts_ot10_home, pts_home, team_id_away, team_abbreviation_away, team_city_name_away, \n",
    "        team_nickname_away, team_wins_losses_away, pts_qtr1_away, pts_qtr2_away, pts_qtr3_away, \n",
    "        pts_qtr4_away, pts_ot1_away, pts_ot2_away, pts_ot3_away, pts_ot4_away, pts_ot5_away, \n",
    "        pts_ot6_away, pts_ot7_away, pts_ot8_away, pts_ot9_away, pts_ot10_away, pts_away\n",
    "    )\n",
    "    VALUES (\n",
    "        source.game_date_est, source.game_sequence, source.game_id, source.team_id_home, source.team_abbreviation_home, \n",
    "        source.team_city_name_home, source.team_nickname_home, source.team_wins_losses_home, source.pts_qtr1_home, \n",
    "        source.pts_qtr2_home, source.pts_qtr3_home, source.pts_qtr4_home, source.pts_ot1_home, source.pts_ot2_home, source.pts_ot3_home, \n",
    "        source.pts_ot4_home, source.pts_ot5_home, source.pts_ot6_home, source.pts_ot7_home, source.pts_ot8_home, source.pts_ot9_home, \n",
    "        source.pts_ot10_home, source.pts_home, source.team_id_away, source.team_abbreviation_away, source.team_city_name_away, \n",
    "        source.team_nickname_away, source.team_wins_losses_away, source.pts_qtr1_away, source.pts_qtr2_away, source.pts_qtr3_away, \n",
    "        source.pts_qtr4_away, source.pts_ot1_away, source.pts_ot2_away, source.pts_ot3_away, source.pts_ot4_away, source.pts_ot5_away, \n",
    "        source.pts_ot6_away, source.pts_ot7_away, source.pts_ot8_away, source.pts_ot9_away, source.pts_ot10_away, source.pts_away\n",
    "    );\n",
    "'''\n",
    "\n",
    "# Ejecutar la inserción\n",
    "try:\n",
    "    cursor.executemany(insert_query, data_tuples)\n",
    "    conn.commit()\n",
    "    print(f\"Datos insertados exitosamente en la tabla '{table_name}'.\")\n",
    "except Exception as e:\n",
    "    print(f\"Error al insertar datos: {e}\")\n",
    "\n",
    "# Cerrar la conexión\n",
    "cursor.close()\n",
    "conn.close()\n"
   ]
  },
  {
   "cell_type": "markdown",
   "metadata": {},
   "source": [
    "# Inactive_players"
   ]
  },
  {
   "cell_type": "code",
   "execution_count": 3,
   "metadata": {},
   "outputs": [
    {
     "name": "stdout",
     "output_type": "stream",
     "text": [
      "Dataset cargado:\n",
      "<class 'pandas.core.frame.DataFrame'>\n",
      "RangeIndex: 110183 entries, 0 to 110182\n",
      "Data columns (total 9 columns):\n",
      " #   Column             Non-Null Count   Dtype  \n",
      "---  ------             --------------   -----  \n",
      " 0   game_id            110183 non-null  int64  \n",
      " 1   player_id          110183 non-null  int64  \n",
      " 2   first_name         110183 non-null  object \n",
      " 3   last_name          110183 non-null  object \n",
      " 4   jersey_num         110183 non-null  float64\n",
      " 5   team_id            110183 non-null  int64  \n",
      " 6   team_city          110183 non-null  object \n",
      " 7   team_name          110183 non-null  object \n",
      " 8   team_abbreviation  110183 non-null  object \n",
      "dtypes: float64(1), int64(3), object(5)\n",
      "memory usage: 7.6+ MB\n"
     ]
    }
   ],
   "source": [
    "# 1. Leer el dataset desde el archivo CSV\n",
    "ruta_csv = r\"C:\\Users\\ERBC\\Desktop\\curso henry\\Analisis_evolutivo_NBA\\Analisis_evolutivo_NBA\\datasets_limpios\\inactive_players.csv\"\n",
    "df = pd.read_csv(ruta_csv)\n",
    "# Mostrar las primeras filas del dataset\n",
    "print(\"Dataset cargado:\")\n",
    "df.info()"
   ]
  },
  {
   "cell_type": "code",
   "execution_count": 4,
   "metadata": {},
   "outputs": [
    {
     "name": "stdout",
     "output_type": "stream",
     "text": [
      "Conectado al server\n"
     ]
    },
    {
     "name": "stderr",
     "output_type": "stream",
     "text": [
      "<>:2: SyntaxWarning: invalid escape sequence '\\S'\n",
      "<>:2: SyntaxWarning: invalid escape sequence '\\S'\n",
      "C:\\Users\\ERBC\\AppData\\Local\\Temp\\ipykernel_17748\\195718536.py:2: SyntaxWarning: invalid escape sequence '\\S'\n",
      "  server = 'ERBC-GAMER\\SQLEXPRESS'  # Nombre del servidor\n"
     ]
    }
   ],
   "source": [
    "# 2. Conectar a la base de datos SQL Server\n",
    "server = 'ERBC-GAMER\\SQLEXPRESS'  # Nombre del servidor\n",
    "database = 'NBA_database'  # Nombre de la base de datos\n",
    "username = 'Sa'  # Usuario de SQL Server\n",
    "password = '1234'  # Contraseña de SQL Server\n",
    "\n",
    "# Cadena de conexión con usuario de sql\n",
    "conn_str = f'DRIVER={{SQL Server}};SERVER={server};DATABASE={database};UID={username};PWD={password}'\n",
    "\n",
    "#conexion con usuario de windows\n",
    "#conn_str = f'DRIVER={{SQL Server}};SERVER={server};DATABASE={database};Trusted_Connection=yes;'\n",
    "\n",
    "# Establecer la conexión\n",
    "conn = pyodbc.connect(conn_str)\n",
    "cursor = conn.cursor()\n",
    "print(\"Conectado al server\")"
   ]
  },
  {
   "cell_type": "code",
   "execution_count": 5,
   "metadata": {},
   "outputs": [
    {
     "name": "stdout",
     "output_type": "stream",
     "text": [
      "Tabla 'inactive_players' creada exitosamente.\n"
     ]
    }
   ],
   "source": [
    "# Definir el nombre de la tabla\n",
    "table_name = 'inactive_players'\n",
    "\n",
    "# Consulta para verificar si la tabla ya existe\n",
    "check_table_query = f'''\n",
    "SELECT COUNT(*) \n",
    "FROM sys.tables \n",
    "WHERE name = '{table_name}';\n",
    "'''\n",
    "\n",
    "cursor.execute(check_table_query)\n",
    "table_exists = cursor.fetchone()[0]  # Devuelve 1 si la tabla existe, 0 si no.\n",
    "\n",
    "if table_exists == 0:\n",
    "    # Consulta para crear la tabla\n",
    "    create_table_query = f'''\n",
    "    CREATE TABLE {table_name} (\n",
    "        game_id INT NOT NULL,               -- Identificador del partido\n",
    "        player_id INT NOT NULL,             -- Identificador del jugador\n",
    "        first_name NVARCHAR(50) NOT NULL,   -- Nombre del jugador\n",
    "        last_name NVARCHAR(50) NOT NULL,    -- Apellido del jugador\n",
    "        jersey_num FLOAT NOT NULL,          -- Número de camiseta\n",
    "        team_id INT NOT NULL,               -- ID del equipo\n",
    "        team_city NVARCHAR(50) NOT NULL,    -- Ciudad del equipo\n",
    "        team_name NVARCHAR(50) NOT NULL,    -- Nombre del equipo\n",
    "        team_abbreviation NVARCHAR(50) NOT NULL, -- Abreviatura del equipo\n",
    "        PRIMARY KEY (game_id, player_id)    -- Clave primaria compuesta\n",
    "    );\n",
    "    '''\n",
    "    cursor.execute(create_table_query)\n",
    "    conn.commit()\n",
    "    print(f\"Tabla '{table_name}' creada exitosamente.\")\n",
    "else:\n",
    "    print(f\"La tabla '{table_name}' ya existe.\")"
   ]
  },
  {
   "cell_type": "code",
   "execution_count": 6,
   "metadata": {},
   "outputs": [
    {
     "name": "stdout",
     "output_type": "stream",
     "text": [
      "Datos insertados exitosamente en la tabla 'inactive_players'.\n"
     ]
    }
   ],
   "source": [
    "# Convertir el DataFrame a una lista de tuplas\n",
    "data_tuples = [tuple(row) for row in df.to_numpy()]  # Convierte el DataFrame en lista de tuplas\n",
    "\n",
    "# Definir la consulta MERGE para evitar duplicados\n",
    "insert_query = f'''\n",
    "MERGE INTO {table_name} AS target\n",
    "USING (VALUES (?, ?, ?, ?, ?, ?, ?, ?, ?)) AS source (\n",
    "    game_id, player_id, first_name, last_name, jersey_num, team_id, team_city, team_name, team_abbreviation\n",
    ")\n",
    "ON target.game_id = source.game_id AND target.player_id = source.player_id\n",
    "WHEN NOT MATCHED BY TARGET THEN\n",
    "    INSERT (\n",
    "        game_id, player_id, first_name, last_name, jersey_num, team_id, team_city, team_name, team_abbreviation\n",
    "    )\n",
    "    VALUES (\n",
    "        source.game_id, source.player_id, source.first_name, source.last_name, source.jersey_num, \n",
    "        source.team_id, source.team_city, source.team_name, source.team_abbreviation\n",
    "    );\n",
    "'''\n",
    "\n",
    "# Ejecutar la inserción\n",
    "try:\n",
    "    cursor.executemany(insert_query, data_tuples)\n",
    "    conn.commit()\n",
    "    print(f\"Datos insertados exitosamente en la tabla '{table_name}'.\")\n",
    "except Exception as e:\n",
    "    print(f\"Error al insertar datos: {e}\")\n",
    "\n",
    "# Cerrar la conexión\n",
    "cursor.close()\n",
    "conn.close()"
   ]
  },
  {
   "cell_type": "markdown",
   "metadata": {},
   "source": [
    "# Teams_details"
   ]
  },
  {
   "cell_type": "code",
   "execution_count": 15,
   "metadata": {},
   "outputs": [
    {
     "name": "stdout",
     "output_type": "stream",
     "text": [
      "Dataset cargado:\n",
      "<class 'pandas.core.frame.DataFrame'>\n",
      "RangeIndex: 25 entries, 0 to 24\n",
      "Data columns (total 14 columns):\n",
      " #   Column              Non-Null Count  Dtype  \n",
      "---  ------              --------------  -----  \n",
      " 0   team_id             25 non-null     int64  \n",
      " 1   abbreviation        25 non-null     object \n",
      " 2   nickname            25 non-null     object \n",
      " 3   yearfounded         25 non-null     float64\n",
      " 4   city                25 non-null     object \n",
      " 5   arena               25 non-null     object \n",
      " 6   arenacapacity       25 non-null     float64\n",
      " 7   owner               25 non-null     object \n",
      " 8   generalmanager      25 non-null     object \n",
      " 9   headcoach           25 non-null     object \n",
      " 10  dleagueaffiliation  25 non-null     object \n",
      " 11  facebook            25 non-null     object \n",
      " 12  instagram           25 non-null     object \n",
      " 13  twitter             25 non-null     object \n",
      "dtypes: float64(2), int64(1), object(11)\n",
      "memory usage: 2.9+ KB\n"
     ]
    }
   ],
   "source": [
    "# 1. Leer el dataset desde el archivo CSV\n",
    "ruta_csv = r\"C:\\Users\\ERBC\\Desktop\\curso henry\\Analisis_evolutivo_NBA\\Analisis_evolutivo_NBA\\datasets_limpios\\team_details_optimizada.csv\"\n",
    "df = pd.read_csv(ruta_csv)\n",
    "# Mostrar las primeras filas del dataset\n",
    "print(\"Dataset cargado:\")\n",
    "df.info()"
   ]
  },
  {
   "cell_type": "code",
   "execution_count": 16,
   "metadata": {},
   "outputs": [
    {
     "name": "stdout",
     "output_type": "stream",
     "text": [
      "Conectado al server\n"
     ]
    },
    {
     "name": "stderr",
     "output_type": "stream",
     "text": [
      "<>:2: SyntaxWarning: invalid escape sequence '\\S'\n",
      "<>:2: SyntaxWarning: invalid escape sequence '\\S'\n",
      "C:\\Users\\ERBC\\AppData\\Local\\Temp\\ipykernel_17748\\195718536.py:2: SyntaxWarning: invalid escape sequence '\\S'\n",
      "  server = 'ERBC-GAMER\\SQLEXPRESS'  # Nombre del servidor\n"
     ]
    }
   ],
   "source": [
    "# 2. Conectar a la base de datos SQL Server\n",
    "server = 'ERBC-GAMER\\SQLEXPRESS'  # Nombre del servidor\n",
    "database = 'NBA_database'  # Nombre de la base de datos\n",
    "username = 'Sa'  # Usuario de SQL Server\n",
    "password = '1234'  # Contraseña de SQL Server\n",
    "\n",
    "# Cadena de conexión con usuario de sql\n",
    "conn_str = f'DRIVER={{SQL Server}};SERVER={server};DATABASE={database};UID={username};PWD={password}'\n",
    "\n",
    "#conexion con usuario de windows\n",
    "#conn_str = f'DRIVER={{SQL Server}};SERVER={server};DATABASE={database};Trusted_Connection=yes;'\n",
    "\n",
    "# Establecer la conexión\n",
    "conn = pyodbc.connect(conn_str)\n",
    "cursor = conn.cursor()\n",
    "print(\"Conectado al server\")"
   ]
  },
  {
   "cell_type": "code",
   "execution_count": 17,
   "metadata": {},
   "outputs": [
    {
     "name": "stdout",
     "output_type": "stream",
     "text": [
      "La tabla 'team_details' ya existe.\n"
     ]
    }
   ],
   "source": [
    "# Definir el nombre de la tabla\n",
    "table_name = 'team_details'\n",
    "\n",
    "# Consulta para verificar si la tabla ya existe\n",
    "check_table_query = f'''\n",
    "SELECT COUNT(*) \n",
    "FROM sys.tables \n",
    "WHERE name = '{table_name}';\n",
    "'''\n",
    "\n",
    "cursor.execute(check_table_query)\n",
    "table_exists = cursor.fetchone()[0]  # Devuelve 1 si la tabla existe, 0 si no.\n",
    "\n",
    "if table_exists == 0:\n",
    "    # Consulta para crear la tabla\n",
    "    create_table_query = f'''\n",
    "    CREATE TABLE {table_name} (\n",
    "        team_id INT NOT NULL PRIMARY KEY,   -- Identificador del equipo\n",
    "        abbreviation NVARCHAR(10) NOT NULL, -- Abreviatura del equipo\n",
    "        nickname NVARCHAR(50) NOT NULL,     -- Apodo del equipo\n",
    "        yearfounded FLOAT NOT NULL,         -- Año de fundación\n",
    "        city NVARCHAR(50) NOT NULL,         -- Ciudad del equipo\n",
    "        arena NVARCHAR(100) NOT NULL,       -- Nombre de la arena\n",
    "        arenacapacity FLOAT NOT NULL,       -- Capacidad de la arena\n",
    "        owner NVARCHAR(100) NOT NULL,       -- Dueño del equipo\n",
    "        generalmanager NVARCHAR(100) NOT NULL, -- Gerente general\n",
    "        headcoach NVARCHAR(100) NOT NULL,   -- Entrenador principal\n",
    "        dleagueaffiliation NVARCHAR(100) NOT NULL, -- Afiliación a la D-League\n",
    "        facebook NVARCHAR(255) NOT NULL,    -- Página de Facebook\n",
    "        instagram NVARCHAR(255) NOT NULL,   -- Página de Instagram\n",
    "        twitter NVARCHAR(255) NOT NULL      -- Página de Twitter\n",
    "    );\n",
    "    '''\n",
    "    cursor.execute(create_table_query)\n",
    "    conn.commit()\n",
    "    print(f\"Tabla '{table_name}' creada exitosamente.\")\n",
    "else:\n",
    "    print(f\"La tabla '{table_name}' ya existe.\")\n",
    "\n"
   ]
  },
  {
   "cell_type": "code",
   "execution_count": 18,
   "metadata": {},
   "outputs": [
    {
     "name": "stdout",
     "output_type": "stream",
     "text": [
      "Datos insertados exitosamente en la tabla 'team_details'.\n"
     ]
    }
   ],
   "source": [
    "# Convertir el DataFrame a una lista de tuplas\n",
    "data_tuples = [tuple(row) for row in df.to_numpy()]  # Convierte el DataFrame en lista de tuplas\n",
    "\n",
    "# Definir la consulta MERGE para evitar duplicados\n",
    "insert_query = f'''\n",
    "MERGE INTO {table_name} AS target\n",
    "USING (VALUES (?, ?, ?, ?, ?, ?, ?, ?, ?, ?, ?, ?, ?, ?)) AS source (\n",
    "    team_id, abbreviation, nickname, yearfounded, city, arena, arenacapacity, owner, \n",
    "    generalmanager, headcoach, dleagueaffiliation, facebook, instagram, twitter\n",
    ")\n",
    "ON target.team_id = source.team_id\n",
    "WHEN NOT MATCHED BY TARGET THEN\n",
    "    INSERT (\n",
    "        team_id, abbreviation, nickname, yearfounded, city, arena, arenacapacity, owner, \n",
    "        generalmanager, headcoach, dleagueaffiliation, facebook, instagram, twitter\n",
    "    )\n",
    "    VALUES (\n",
    "        source.team_id, source.abbreviation, source.nickname, source.yearfounded, source.city, \n",
    "        source.arena, source.arenacapacity, source.owner, source.generalmanager, source.headcoach, \n",
    "        source.dleagueaffiliation, source.facebook, source.instagram, source.twitter\n",
    "    );\n",
    "'''\n",
    "\n",
    "# Ejecutar la inserción\n",
    "try:\n",
    "    cursor.executemany(insert_query, data_tuples)\n",
    "    conn.commit()\n",
    "    print(f\"Datos insertados exitosamente en la tabla '{table_name}'.\")\n",
    "except Exception as e:\n",
    "    print(f\"Error al insertar datos: {e}\")\n",
    "\n",
    "# Cerrar la conexión\n",
    "cursor.close()\n",
    "conn.close()\n"
   ]
  },
  {
   "cell_type": "markdown",
   "metadata": {},
   "source": [
    "# Team"
   ]
  },
  {
   "cell_type": "code",
   "execution_count": 20,
   "metadata": {},
   "outputs": [
    {
     "name": "stdout",
     "output_type": "stream",
     "text": [
      "Dataset cargado:\n",
      "<class 'pandas.core.frame.DataFrame'>\n",
      "RangeIndex: 30 entries, 0 to 29\n",
      "Data columns (total 7 columns):\n",
      " #   Column        Non-Null Count  Dtype  \n",
      "---  ------        --------------  -----  \n",
      " 0   id            30 non-null     int64  \n",
      " 1   full_name     30 non-null     object \n",
      " 2   abbreviation  30 non-null     object \n",
      " 3   nickname      30 non-null     object \n",
      " 4   city          30 non-null     object \n",
      " 5   state         30 non-null     object \n",
      " 6   year_founded  30 non-null     float64\n",
      "dtypes: float64(1), int64(1), object(5)\n",
      "memory usage: 1.8+ KB\n"
     ]
    }
   ],
   "source": [
    "# 1. Leer el dataset desde el archivo CSV\n",
    "ruta_csv = r\"C:\\Users\\ERBC\\Desktop\\curso henry\\Analisis_evolutivo_NBA\\Analisis_evolutivo_NBA\\datasets_limpios\\team_optimizada.csv\"\n",
    "df = pd.read_csv(ruta_csv)\n",
    "# Mostrar las primeras filas del dataset\n",
    "print(\"Dataset cargado:\")\n",
    "df.info()"
   ]
  },
  {
   "cell_type": "code",
   "execution_count": 22,
   "metadata": {},
   "outputs": [
    {
     "name": "stdout",
     "output_type": "stream",
     "text": [
      "Conectado al server\n"
     ]
    },
    {
     "name": "stderr",
     "output_type": "stream",
     "text": [
      "<>:2: SyntaxWarning: invalid escape sequence '\\S'\n",
      "<>:2: SyntaxWarning: invalid escape sequence '\\S'\n",
      "C:\\Users\\ERBC\\AppData\\Local\\Temp\\ipykernel_17748\\195718536.py:2: SyntaxWarning: invalid escape sequence '\\S'\n",
      "  server = 'ERBC-GAMER\\SQLEXPRESS'  # Nombre del servidor\n"
     ]
    }
   ],
   "source": [
    "# 2. Conectar a la base de datos SQL Server\n",
    "server = 'ERBC-GAMER\\SQLEXPRESS'  # Nombre del servidor\n",
    "database = 'NBA_database'  # Nombre de la base de datos\n",
    "username = 'Sa'  # Usuario de SQL Server\n",
    "password = '1234'  # Contraseña de SQL Server\n",
    "\n",
    "# Cadena de conexión con usuario de sql\n",
    "conn_str = f'DRIVER={{SQL Server}};SERVER={server};DATABASE={database};UID={username};PWD={password}'\n",
    "\n",
    "#conexion con usuario de windows\n",
    "#conn_str = f'DRIVER={{SQL Server}};SERVER={server};DATABASE={database};Trusted_Connection=yes;'\n",
    "\n",
    "# Establecer la conexión\n",
    "conn = pyodbc.connect(conn_str)\n",
    "cursor = conn.cursor()\n",
    "print(\"Conectado al server\")"
   ]
  },
  {
   "cell_type": "code",
   "execution_count": null,
   "metadata": {},
   "outputs": [
    {
     "name": "stdout",
     "output_type": "stream",
     "text": [
      "Tabla 'team' creada exitosamente.\n"
     ]
    }
   ],
   "source": [
    "# Definir el nombre de la tabla\n",
    "table_name = 'team'\n",
    "\n",
    "# Consulta para verificar si la tabla ya existe\n",
    "check_table_query = f'''\n",
    "SELECT COUNT(*) \n",
    "FROM sys.tables \n",
    "WHERE name = '{table_name}';\n",
    "'''\n",
    "\n",
    "cursor.execute(check_table_query)\n",
    "table_exists = cursor.fetchone()[0]  # Devuelve 1 si la tabla existe, 0 si no.\n",
    "\n",
    "if table_exists == 0:\n",
    "    # Consulta para crear la tabla\n",
    "    create_table_query = f'''\n",
    "    CREATE TABLE {table_name} (\n",
    "        id INT NOT NULL PRIMARY KEY,   -- Identificador del equipo\n",
    "        full_name NVARCHAR(100) NOT NULL, -- Nombre completo del equipo\n",
    "        abbreviation NVARCHAR(10) NOT NULL, -- Abreviatura del equipo\n",
    "        nickname NVARCHAR(50) NOT NULL,     -- Apodo del equipo\n",
    "        city NVARCHAR(50) NOT NULL,         -- Ciudad del equipo\n",
    "        state NVARCHAR(50) NOT NULL,        -- Estado del equipo\n",
    "        year_founded FLOAT NOT NULL         -- Año de fundación\n",
    "    );\n",
    "    '''\n",
    "    cursor.execute(create_table_query)\n",
    "    conn.commit()\n",
    "    print(f\"Tabla '{table_name}' creada exitosamente.\")\n",
    "else:\n",
    "    print(f\"La tabla '{table_name}' ya existe.\")\n",
    "\n"
   ]
  },
  {
   "cell_type": "code",
   "execution_count": 24,
   "metadata": {},
   "outputs": [
    {
     "name": "stdout",
     "output_type": "stream",
     "text": [
      "Datos insertados exitosamente en la tabla 'team'.\n"
     ]
    }
   ],
   "source": [
    "# Convertir el DataFrame a una lista de tuplas\n",
    "data_tuples = [tuple(row) for row in df.to_numpy()]  # Convierte el DataFrame en lista de tuplas\n",
    "\n",
    "# Definir la consulta MERGE para evitar duplicados\n",
    "insert_query = f'''\n",
    "MERGE INTO {table_name} AS target\n",
    "USING (VALUES (?, ?, ?, ?, ?, ?, ?)) AS source (\n",
    "    id, full_name, abbreviation, nickname, city, state, year_founded\n",
    ")\n",
    "ON target.id = source.id\n",
    "WHEN NOT MATCHED BY TARGET THEN\n",
    "    INSERT (\n",
    "        id, full_name, abbreviation, nickname, city, state, year_founded\n",
    "    )\n",
    "    VALUES (\n",
    "        source.id, source.full_name, source.abbreviation, source.nickname, source.city, \n",
    "        source.state, source.year_founded\n",
    "    );\n",
    "'''\n",
    "\n",
    "# Ejecutar la inserción\n",
    "try:\n",
    "    cursor.executemany(insert_query, data_tuples)\n",
    "    conn.commit()\n",
    "    print(f\"Datos insertados exitosamente en la tabla '{table_name}'.\")\n",
    "except Exception as e:\n",
    "    print(f\"Error al insertar datos: {e}\")\n",
    "\n",
    "# Cerrar la conexión\n",
    "cursor.close()\n",
    "conn.close()\n"
   ]
  },
  {
   "cell_type": "markdown",
   "metadata": {},
   "source": [
    "# Team_history"
   ]
  },
  {
   "cell_type": "code",
   "execution_count": 25,
   "metadata": {},
   "outputs": [
    {
     "name": "stdout",
     "output_type": "stream",
     "text": [
      "Dataset cargado:\n",
      "<class 'pandas.core.frame.DataFrame'>\n",
      "RangeIndex: 52 entries, 0 to 51\n",
      "Data columns (total 5 columns):\n",
      " #   Column            Non-Null Count  Dtype \n",
      "---  ------            --------------  ----- \n",
      " 0   team_id           52 non-null     int64 \n",
      " 1   city              52 non-null     object\n",
      " 2   nickname          52 non-null     object\n",
      " 3   year_founded      52 non-null     int64 \n",
      " 4   year_active_till  52 non-null     int64 \n",
      "dtypes: int64(3), object(2)\n",
      "memory usage: 2.2+ KB\n"
     ]
    }
   ],
   "source": [
    "# 1. Leer el dataset desde el archivo CSV\n",
    "ruta_csv = r\"C:\\Users\\ERBC\\Desktop\\curso henry\\Analisis_evolutivo_NBA\\Analisis_evolutivo_NBA\\datasets_limpios\\team_history_optimizada.csv\"\n",
    "df = pd.read_csv(ruta_csv)\n",
    "# Mostrar las primeras filas del dataset\n",
    "print(\"Dataset cargado:\")\n",
    "df.info()"
   ]
  },
  {
   "cell_type": "code",
   "execution_count": 26,
   "metadata": {},
   "outputs": [
    {
     "name": "stdout",
     "output_type": "stream",
     "text": [
      "Conectado al server\n"
     ]
    },
    {
     "name": "stderr",
     "output_type": "stream",
     "text": [
      "<>:2: SyntaxWarning: invalid escape sequence '\\S'\n",
      "<>:2: SyntaxWarning: invalid escape sequence '\\S'\n",
      "C:\\Users\\ERBC\\AppData\\Local\\Temp\\ipykernel_17748\\195718536.py:2: SyntaxWarning: invalid escape sequence '\\S'\n",
      "  server = 'ERBC-GAMER\\SQLEXPRESS'  # Nombre del servidor\n"
     ]
    }
   ],
   "source": [
    "# 2. Conectar a la base de datos SQL Server\n",
    "server = 'ERBC-GAMER\\SQLEXPRESS'  # Nombre del servidor\n",
    "database = 'NBA_database'  # Nombre de la base de datos\n",
    "username = 'Sa'  # Usuario de SQL Server\n",
    "password = '1234'  # Contraseña de SQL Server\n",
    "\n",
    "# Cadena de conexión con usuario de sql\n",
    "conn_str = f'DRIVER={{SQL Server}};SERVER={server};DATABASE={database};UID={username};PWD={password}'\n",
    "\n",
    "#conexion con usuario de windows\n",
    "#conn_str = f'DRIVER={{SQL Server}};SERVER={server};DATABASE={database};Trusted_Connection=yes;'\n",
    "\n",
    "# Establecer la conexión\n",
    "conn = pyodbc.connect(conn_str)\n",
    "cursor = conn.cursor()\n",
    "print(\"Conectado al server\")"
   ]
  },
  {
   "cell_type": "code",
   "execution_count": 27,
   "metadata": {},
   "outputs": [
    {
     "name": "stdout",
     "output_type": "stream",
     "text": [
      "Tabla 'team_history' creada exitosamente.\n"
     ]
    }
   ],
   "source": [
    "# Definir el nombre de la tabla\n",
    "table_name = 'team_history'\n",
    "\n",
    "# Consulta para verificar si la tabla ya existe\n",
    "check_table_query = f'''\n",
    "SELECT COUNT(*) \n",
    "FROM sys.tables \n",
    "WHERE name = '{table_name}';\n",
    "'''\n",
    "\n",
    "cursor.execute(check_table_query)\n",
    "table_exists = cursor.fetchone()[0]  # Devuelve 1 si la tabla existe, 0 si no.\n",
    "\n",
    "if table_exists == 0:\n",
    "    # Consulta para crear la tabla\n",
    "    create_table_query = f'''\n",
    "    CREATE TABLE {table_name} (\n",
    "        team_id INT NOT NULL,   -- Identificador del equipo\n",
    "        city NVARCHAR(50) NOT NULL, -- Ciudad del equipo\n",
    "        nickname NVARCHAR(50) NOT NULL, -- Apodo del equipo\n",
    "        year_founded INT NOT NULL, -- Año de fundación\n",
    "        year_active_till INT NOT NULL, -- Año hasta el que estuvo activo\n",
    "        PRIMARY KEY (team_id, year_founded) -- Clave primaria compuesta\n",
    "    );\n",
    "    '''\n",
    "    cursor.execute(create_table_query)\n",
    "    conn.commit()\n",
    "    print(f\"Tabla '{table_name}' creada exitosamente.\")\n",
    "else:\n",
    "    print(f\"La tabla '{table_name}' ya existe.\")\n"
   ]
  },
  {
   "cell_type": "code",
   "execution_count": 28,
   "metadata": {},
   "outputs": [
    {
     "name": "stdout",
     "output_type": "stream",
     "text": [
      "Datos insertados exitosamente en la tabla 'team_history'.\n"
     ]
    }
   ],
   "source": [
    "# Convertir el DataFrame a una lista de tuplas\n",
    "data_tuples = [tuple(row) for row in df.to_numpy()]  # Convierte el DataFrame en lista de tuplas\n",
    "\n",
    "# Definir la consulta MERGE para evitar duplicados\n",
    "insert_query = f'''\n",
    "MERGE INTO {table_name} AS target\n",
    "USING (VALUES (?, ?, ?, ?, ?)) AS source (\n",
    "    team_id, city, nickname, year_founded, year_active_till\n",
    ")\n",
    "ON target.team_id = source.team_id AND target.year_founded = source.year_founded\n",
    "WHEN NOT MATCHED BY TARGET THEN\n",
    "    INSERT (\n",
    "        team_id, city, nickname, year_founded, year_active_till\n",
    "    )\n",
    "    VALUES (\n",
    "        source.team_id, source.city, source.nickname, source.year_founded, source.year_active_till\n",
    "    );\n",
    "'''\n",
    "\n",
    "# Ejecutar la inserción\n",
    "try:\n",
    "    cursor.executemany(insert_query, data_tuples)\n",
    "    conn.commit()\n",
    "    print(f\"Datos insertados exitosamente en la tabla '{table_name}'.\")\n",
    "except Exception as e:\n",
    "    print(f\"Error al insertar datos: {e}\")\n",
    "\n",
    "# Cerrar la conexión\n",
    "cursor.close()\n",
    "conn.close()\n"
   ]
  }
 ],
 "metadata": {
  "kernelspec": {
   "display_name": ".NBA_venv",
   "language": "python",
   "name": "python3"
  },
  "language_info": {
   "codemirror_mode": {
    "name": "ipython",
    "version": 3
   },
   "file_extension": ".py",
   "mimetype": "text/x-python",
   "name": "python",
   "nbconvert_exporter": "python",
   "pygments_lexer": "ipython3",
   "version": "3.13.1"
  }
 },
 "nbformat": 4,
 "nbformat_minor": 2
}
